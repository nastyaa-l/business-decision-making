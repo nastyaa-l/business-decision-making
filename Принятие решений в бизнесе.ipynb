{
 "cells": [
  {
   "cell_type": "markdown",
   "id": "43f34363",
   "metadata": {},
   "source": [
    "### Исходные данные"
   ]
  },
  {
   "cell_type": "markdown",
   "id": "e2509b01",
   "metadata": {},
   "source": [
    "Данные о гипотезах для увеличения выручки, а также данные с результатами после проведения A/B тестирования."
   ]
  },
  {
   "cell_type": "markdown",
   "id": "786e6e64",
   "metadata": {},
   "source": [
    "### Задача"
   ]
  },
  {
   "cell_type": "markdown",
   "id": "cdc8dc65",
   "metadata": {},
   "source": [
    "1. Приоритезировать гипотезы.\n",
    "2. Проанализировать А/В тест.\n",
    "3. Принять решение по результатам теста : \n",
    "- Остановить тест, зафиксировать победу одной из групп. \n",
    "- Остановить тест, зафиксировать отсутствие различий между группами. \n",
    "- Продолжить тест."
   ]
  },
  {
   "cell_type": "markdown",
   "id": "8332379e",
   "metadata": {},
   "source": [
    "### План исследования:"
   ]
  },
  {
   "cell_type": "markdown",
   "id": "664cb57f",
   "metadata": {},
   "source": [
    "1. Изучим общую информацию о данных.\n",
    "2. Выполним предобработку данных: обработаем пропуски, дубликаты, приведем данные в нужный формат.\n",
    "3. Применим фреймворки ICE и RICE для приоритезаии гипотез.\n",
    "4. Построим график кумулятивной выручки по группам. \n",
    "5. Построим график кумулятивного среднего чека по группам.\n",
    "6. Построим график относительного изменения кумулятивного среднего чека группы B к группе A. \n",
    "7. Построим график кумулятивного среднего количества заказов на посетителя по группам. \n",
    "8. Построим график относительного изменения кумулятивного среднего количества заказов на посетителя группы B к группе A.\n",
    "9. Построим точечный график количества заказов по пользователям.\n",
    "10. Посчитаем 95-й и 99-й перцентили количества заказов на пользователя. \n",
    "11. Построим точечный график стоимостей заказов.\n",
    "12. Посчитаем 95-й и 99-й перцентили стоимости заказов.\n",
    "13. Посчитаем статистическую значимость различий в среднем количестве заказов на посетителя между группами по «сырым» данным. \n",
    "14. Посчитаем статистическую значимость различий в среднем чеке заказа между группами по «сырым» данным.\n",
    "15. Посчитаем статистическую значимость различий в среднем количестве заказов на посетителя между группами по «очищенным» данным. \n",
    "16. Посчитаем статистическую значимость различий в среднем чеке заказа между группами по «очищенным» данным. \n",
    "17. Примем решения по результатам теста."
   ]
  },
  {
   "cell_type": "code",
   "execution_count": 3,
   "id": "000147ae",
   "metadata": {},
   "outputs": [],
   "source": [
    "import pandas as pd\n",
    "import datetime as dt\n",
    "import matplotlib.pyplot as plt\n",
    "import numpy as np\n",
    "import scipy.stats as st\n",
    "plt.rcParams['figure.figsize']=(12,6)\n",
    "pd.options.display.max_colwidth = 150"
   ]
  },
  {
   "cell_type": "code",
   "execution_count": 4,
   "id": "aa38f2c8",
   "metadata": {},
   "outputs": [],
   "source": [
    "try: \n",
    "    hypothesis = pd.read_csv('hypothesis.csv')\n",
    "    orders = pd.read_csv('orders.csv')\n",
    "    visitors = pd.read_csv('visitors.csv')\n",
    "except: \n",
    "    hypothesis = pd.read_csv('https://code.s3.yandex.net/datasets/hypothesis.csv')\n",
    "    orders = pd.read_csv('https://code.s3.yandex.net/datasets/orders.csv')\n",
    "    visitors = pd.read_csv('https://code.s3.yandex.net/datasets/visitors.csv')"
   ]
  },
  {
   "cell_type": "markdown",
   "id": "d2a82352",
   "metadata": {},
   "source": [
    "Первая часть: приоритизация гипотез"
   ]
  },
  {
   "cell_type": "code",
   "execution_count": 5,
   "id": "7779f7d2",
   "metadata": {},
   "outputs": [
    {
     "data": {
      "text/html": [
       "<div>\n",
       "<style scoped>\n",
       "    .dataframe tbody tr th:only-of-type {\n",
       "        vertical-align: middle;\n",
       "    }\n",
       "\n",
       "    .dataframe tbody tr th {\n",
       "        vertical-align: top;\n",
       "    }\n",
       "\n",
       "    .dataframe thead th {\n",
       "        text-align: right;\n",
       "    }\n",
       "</style>\n",
       "<table border=\"1\" class=\"dataframe\">\n",
       "  <thead>\n",
       "    <tr style=\"text-align: right;\">\n",
       "      <th></th>\n",
       "      <th>Hypothesis</th>\n",
       "      <th>Reach</th>\n",
       "      <th>Impact</th>\n",
       "      <th>Confidence</th>\n",
       "      <th>Efforts</th>\n",
       "    </tr>\n",
       "  </thead>\n",
       "  <tbody>\n",
       "    <tr>\n",
       "      <th>0</th>\n",
       "      <td>Добавить два новых канала привлечения трафика, что позволит привлекать на 30% больше пользователей</td>\n",
       "      <td>3</td>\n",
       "      <td>10</td>\n",
       "      <td>8</td>\n",
       "      <td>6</td>\n",
       "    </tr>\n",
       "    <tr>\n",
       "      <th>1</th>\n",
       "      <td>Запустить собственную службу доставки, что сократит срок доставки заказов</td>\n",
       "      <td>2</td>\n",
       "      <td>5</td>\n",
       "      <td>4</td>\n",
       "      <td>10</td>\n",
       "    </tr>\n",
       "    <tr>\n",
       "      <th>2</th>\n",
       "      <td>Добавить блоки рекомендаций товаров на сайт интернет магазина, чтобы повысить конверсию и средний чек заказа</td>\n",
       "      <td>8</td>\n",
       "      <td>3</td>\n",
       "      <td>7</td>\n",
       "      <td>3</td>\n",
       "    </tr>\n",
       "    <tr>\n",
       "      <th>3</th>\n",
       "      <td>Изменить структура категорий, что увеличит конверсию, т.к. пользователи быстрее найдут нужный товар</td>\n",
       "      <td>8</td>\n",
       "      <td>3</td>\n",
       "      <td>3</td>\n",
       "      <td>8</td>\n",
       "    </tr>\n",
       "    <tr>\n",
       "      <th>4</th>\n",
       "      <td>Изменить цвет фона главной страницы, чтобы увеличить вовлеченность пользователей</td>\n",
       "      <td>3</td>\n",
       "      <td>1</td>\n",
       "      <td>1</td>\n",
       "      <td>1</td>\n",
       "    </tr>\n",
       "    <tr>\n",
       "      <th>5</th>\n",
       "      <td>Добавить страницу отзывов клиентов о магазине, что позволит увеличить количество заказов</td>\n",
       "      <td>3</td>\n",
       "      <td>2</td>\n",
       "      <td>2</td>\n",
       "      <td>3</td>\n",
       "    </tr>\n",
       "    <tr>\n",
       "      <th>6</th>\n",
       "      <td>Показать на главной странице баннеры с актуальными акциями и распродажами, чтобы увеличить конверсию</td>\n",
       "      <td>5</td>\n",
       "      <td>3</td>\n",
       "      <td>8</td>\n",
       "      <td>3</td>\n",
       "    </tr>\n",
       "    <tr>\n",
       "      <th>7</th>\n",
       "      <td>Добавить форму подписки на все основные страницы, чтобы собрать базу клиентов для email-рассылок</td>\n",
       "      <td>10</td>\n",
       "      <td>7</td>\n",
       "      <td>8</td>\n",
       "      <td>5</td>\n",
       "    </tr>\n",
       "    <tr>\n",
       "      <th>8</th>\n",
       "      <td>Запустить акцию, дающую скидку на товар в день рождения</td>\n",
       "      <td>1</td>\n",
       "      <td>9</td>\n",
       "      <td>9</td>\n",
       "      <td>5</td>\n",
       "    </tr>\n",
       "  </tbody>\n",
       "</table>\n",
       "</div>"
      ],
      "text/plain": [
       "                                                                                                     Hypothesis  \\\n",
       "0            Добавить два новых канала привлечения трафика, что позволит привлекать на 30% больше пользователей   \n",
       "1                                     Запустить собственную службу доставки, что сократит срок доставки заказов   \n",
       "2  Добавить блоки рекомендаций товаров на сайт интернет магазина, чтобы повысить конверсию и средний чек заказа   \n",
       "3           Изменить структура категорий, что увеличит конверсию, т.к. пользователи быстрее найдут нужный товар   \n",
       "4                              Изменить цвет фона главной страницы, чтобы увеличить вовлеченность пользователей   \n",
       "5                      Добавить страницу отзывов клиентов о магазине, что позволит увеличить количество заказов   \n",
       "6          Показать на главной странице баннеры с актуальными акциями и распродажами, чтобы увеличить конверсию   \n",
       "7              Добавить форму подписки на все основные страницы, чтобы собрать базу клиентов для email-рассылок   \n",
       "8                                                       Запустить акцию, дающую скидку на товар в день рождения   \n",
       "\n",
       "   Reach  Impact  Confidence  Efforts  \n",
       "0      3      10           8        6  \n",
       "1      2       5           4       10  \n",
       "2      8       3           7        3  \n",
       "3      8       3           3        8  \n",
       "4      3       1           1        1  \n",
       "5      3       2           2        3  \n",
       "6      5       3           8        3  \n",
       "7     10       7           8        5  \n",
       "8      1       9           9        5  "
      ]
     },
     "execution_count": 5,
     "metadata": {},
     "output_type": "execute_result"
    }
   ],
   "source": [
    "hypothesis"
   ]
  },
  {
   "cell_type": "markdown",
   "id": "fc3708e1",
   "metadata": {},
   "source": [
    "Приведем названия столбцов к нижнему регистру."
   ]
  },
  {
   "cell_type": "code",
   "execution_count": 6,
   "id": "68d82d0c",
   "metadata": {},
   "outputs": [],
   "source": [
    "hypothesis.columns = hypothesis.columns.str.lower()"
   ]
  },
  {
   "cell_type": "code",
   "execution_count": 7,
   "id": "d80ee792",
   "metadata": {},
   "outputs": [
    {
     "name": "stdout",
     "output_type": "stream",
     "text": [
      "<class 'pandas.core.frame.DataFrame'>\n",
      "RangeIndex: 9 entries, 0 to 8\n",
      "Data columns (total 5 columns):\n",
      " #   Column      Non-Null Count  Dtype \n",
      "---  ------      --------------  ----- \n",
      " 0   hypothesis  9 non-null      object\n",
      " 1   reach       9 non-null      int64 \n",
      " 2   impact      9 non-null      int64 \n",
      " 3   confidence  9 non-null      int64 \n",
      " 4   efforts     9 non-null      int64 \n",
      "dtypes: int64(4), object(1)\n",
      "memory usage: 488.0+ bytes\n"
     ]
    }
   ],
   "source": [
    "hypothesis.info()"
   ]
  },
  {
   "cell_type": "code",
   "execution_count": 8,
   "id": "b74057fb",
   "metadata": {},
   "outputs": [
    {
     "data": {
      "text/plain": [
       "0"
      ]
     },
     "execution_count": 8,
     "metadata": {},
     "output_type": "execute_result"
    }
   ],
   "source": [
    "hypothesis.duplicated().sum()"
   ]
  },
  {
   "cell_type": "markdown",
   "id": "ef92f5b4",
   "metadata": {},
   "source": [
    "С данными все в порядке (нет пропусков, дупликатов, формат данных верный)"
   ]
  },
  {
   "cell_type": "markdown",
   "id": "57fd1063",
   "metadata": {},
   "source": [
    "Примненим фреймоворк ICE для приоритезации гипотез."
   ]
  },
  {
   "cell_type": "code",
   "execution_count": 9,
   "id": "34faabd0",
   "metadata": {},
   "outputs": [],
   "source": [
    "hypothesis['ICE'] = np.round((hypothesis['confidence'] * hypothesis['impact'] / hypothesis['efforts']), 2)"
   ]
  },
  {
   "cell_type": "code",
   "execution_count": 10,
   "id": "5f9adf8b",
   "metadata": {},
   "outputs": [
    {
     "data": {
      "text/html": [
       "<div>\n",
       "<style scoped>\n",
       "    .dataframe tbody tr th:only-of-type {\n",
       "        vertical-align: middle;\n",
       "    }\n",
       "\n",
       "    .dataframe tbody tr th {\n",
       "        vertical-align: top;\n",
       "    }\n",
       "\n",
       "    .dataframe thead th {\n",
       "        text-align: right;\n",
       "    }\n",
       "</style>\n",
       "<table border=\"1\" class=\"dataframe\">\n",
       "  <thead>\n",
       "    <tr style=\"text-align: right;\">\n",
       "      <th></th>\n",
       "      <th>hypothesis</th>\n",
       "      <th>reach</th>\n",
       "      <th>impact</th>\n",
       "      <th>confidence</th>\n",
       "      <th>efforts</th>\n",
       "      <th>ICE</th>\n",
       "    </tr>\n",
       "  </thead>\n",
       "  <tbody>\n",
       "    <tr>\n",
       "      <th>8</th>\n",
       "      <td>Запустить акцию, дающую скидку на товар в день рождения</td>\n",
       "      <td>1</td>\n",
       "      <td>9</td>\n",
       "      <td>9</td>\n",
       "      <td>5</td>\n",
       "      <td>16.20</td>\n",
       "    </tr>\n",
       "    <tr>\n",
       "      <th>0</th>\n",
       "      <td>Добавить два новых канала привлечения трафика, что позволит привлекать на 30% больше пользователей</td>\n",
       "      <td>3</td>\n",
       "      <td>10</td>\n",
       "      <td>8</td>\n",
       "      <td>6</td>\n",
       "      <td>13.33</td>\n",
       "    </tr>\n",
       "    <tr>\n",
       "      <th>7</th>\n",
       "      <td>Добавить форму подписки на все основные страницы, чтобы собрать базу клиентов для email-рассылок</td>\n",
       "      <td>10</td>\n",
       "      <td>7</td>\n",
       "      <td>8</td>\n",
       "      <td>5</td>\n",
       "      <td>11.20</td>\n",
       "    </tr>\n",
       "    <tr>\n",
       "      <th>6</th>\n",
       "      <td>Показать на главной странице баннеры с актуальными акциями и распродажами, чтобы увеличить конверсию</td>\n",
       "      <td>5</td>\n",
       "      <td>3</td>\n",
       "      <td>8</td>\n",
       "      <td>3</td>\n",
       "      <td>8.00</td>\n",
       "    </tr>\n",
       "    <tr>\n",
       "      <th>2</th>\n",
       "      <td>Добавить блоки рекомендаций товаров на сайт интернет магазина, чтобы повысить конверсию и средний чек заказа</td>\n",
       "      <td>8</td>\n",
       "      <td>3</td>\n",
       "      <td>7</td>\n",
       "      <td>3</td>\n",
       "      <td>7.00</td>\n",
       "    </tr>\n",
       "    <tr>\n",
       "      <th>1</th>\n",
       "      <td>Запустить собственную службу доставки, что сократит срок доставки заказов</td>\n",
       "      <td>2</td>\n",
       "      <td>5</td>\n",
       "      <td>4</td>\n",
       "      <td>10</td>\n",
       "      <td>2.00</td>\n",
       "    </tr>\n",
       "    <tr>\n",
       "      <th>5</th>\n",
       "      <td>Добавить страницу отзывов клиентов о магазине, что позволит увеличить количество заказов</td>\n",
       "      <td>3</td>\n",
       "      <td>2</td>\n",
       "      <td>2</td>\n",
       "      <td>3</td>\n",
       "      <td>1.33</td>\n",
       "    </tr>\n",
       "    <tr>\n",
       "      <th>3</th>\n",
       "      <td>Изменить структура категорий, что увеличит конверсию, т.к. пользователи быстрее найдут нужный товар</td>\n",
       "      <td>8</td>\n",
       "      <td>3</td>\n",
       "      <td>3</td>\n",
       "      <td>8</td>\n",
       "      <td>1.12</td>\n",
       "    </tr>\n",
       "    <tr>\n",
       "      <th>4</th>\n",
       "      <td>Изменить цвет фона главной страницы, чтобы увеличить вовлеченность пользователей</td>\n",
       "      <td>3</td>\n",
       "      <td>1</td>\n",
       "      <td>1</td>\n",
       "      <td>1</td>\n",
       "      <td>1.00</td>\n",
       "    </tr>\n",
       "  </tbody>\n",
       "</table>\n",
       "</div>"
      ],
      "text/plain": [
       "                                                                                                     hypothesis  \\\n",
       "8                                                       Запустить акцию, дающую скидку на товар в день рождения   \n",
       "0            Добавить два новых канала привлечения трафика, что позволит привлекать на 30% больше пользователей   \n",
       "7              Добавить форму подписки на все основные страницы, чтобы собрать базу клиентов для email-рассылок   \n",
       "6          Показать на главной странице баннеры с актуальными акциями и распродажами, чтобы увеличить конверсию   \n",
       "2  Добавить блоки рекомендаций товаров на сайт интернет магазина, чтобы повысить конверсию и средний чек заказа   \n",
       "1                                     Запустить собственную службу доставки, что сократит срок доставки заказов   \n",
       "5                      Добавить страницу отзывов клиентов о магазине, что позволит увеличить количество заказов   \n",
       "3           Изменить структура категорий, что увеличит конверсию, т.к. пользователи быстрее найдут нужный товар   \n",
       "4                              Изменить цвет фона главной страницы, чтобы увеличить вовлеченность пользователей   \n",
       "\n",
       "   reach  impact  confidence  efforts    ICE  \n",
       "8      1       9           9        5  16.20  \n",
       "0      3      10           8        6  13.33  \n",
       "7     10       7           8        5  11.20  \n",
       "6      5       3           8        3   8.00  \n",
       "2      8       3           7        3   7.00  \n",
       "1      2       5           4       10   2.00  \n",
       "5      3       2           2        3   1.33  \n",
       "3      8       3           3        8   1.12  \n",
       "4      3       1           1        1   1.00  "
      ]
     },
     "execution_count": 10,
     "metadata": {},
     "output_type": "execute_result"
    }
   ],
   "source": [
    "hypothesis.sort_values('ICE', ascending=False)"
   ]
  },
  {
   "cell_type": "markdown",
   "id": "27ac6f20",
   "metadata": {},
   "source": [
    "Примненим фреймоворк RICE для приоритезации гипотез."
   ]
  },
  {
   "cell_type": "code",
   "execution_count": 11,
   "id": "f63401b7",
   "metadata": {},
   "outputs": [],
   "source": [
    "hypothesis['RICE'] = np.round(hypothesis['reach'] * hypothesis['confidence'] * hypothesis['impact'] / hypothesis['efforts'], 2)"
   ]
  },
  {
   "cell_type": "code",
   "execution_count": 12,
   "id": "b69a4e02",
   "metadata": {},
   "outputs": [
    {
     "data": {
      "text/html": [
       "<div>\n",
       "<style scoped>\n",
       "    .dataframe tbody tr th:only-of-type {\n",
       "        vertical-align: middle;\n",
       "    }\n",
       "\n",
       "    .dataframe tbody tr th {\n",
       "        vertical-align: top;\n",
       "    }\n",
       "\n",
       "    .dataframe thead th {\n",
       "        text-align: right;\n",
       "    }\n",
       "</style>\n",
       "<table border=\"1\" class=\"dataframe\">\n",
       "  <thead>\n",
       "    <tr style=\"text-align: right;\">\n",
       "      <th></th>\n",
       "      <th>hypothesis</th>\n",
       "      <th>reach</th>\n",
       "      <th>impact</th>\n",
       "      <th>confidence</th>\n",
       "      <th>efforts</th>\n",
       "      <th>ICE</th>\n",
       "      <th>RICE</th>\n",
       "    </tr>\n",
       "  </thead>\n",
       "  <tbody>\n",
       "    <tr>\n",
       "      <th>7</th>\n",
       "      <td>Добавить форму подписки на все основные страницы, чтобы собрать базу клиентов для email-рассылок</td>\n",
       "      <td>10</td>\n",
       "      <td>7</td>\n",
       "      <td>8</td>\n",
       "      <td>5</td>\n",
       "      <td>11.20</td>\n",
       "      <td>112.0</td>\n",
       "    </tr>\n",
       "    <tr>\n",
       "      <th>2</th>\n",
       "      <td>Добавить блоки рекомендаций товаров на сайт интернет магазина, чтобы повысить конверсию и средний чек заказа</td>\n",
       "      <td>8</td>\n",
       "      <td>3</td>\n",
       "      <td>7</td>\n",
       "      <td>3</td>\n",
       "      <td>7.00</td>\n",
       "      <td>56.0</td>\n",
       "    </tr>\n",
       "    <tr>\n",
       "      <th>0</th>\n",
       "      <td>Добавить два новых канала привлечения трафика, что позволит привлекать на 30% больше пользователей</td>\n",
       "      <td>3</td>\n",
       "      <td>10</td>\n",
       "      <td>8</td>\n",
       "      <td>6</td>\n",
       "      <td>13.33</td>\n",
       "      <td>40.0</td>\n",
       "    </tr>\n",
       "    <tr>\n",
       "      <th>6</th>\n",
       "      <td>Показать на главной странице баннеры с актуальными акциями и распродажами, чтобы увеличить конверсию</td>\n",
       "      <td>5</td>\n",
       "      <td>3</td>\n",
       "      <td>8</td>\n",
       "      <td>3</td>\n",
       "      <td>8.00</td>\n",
       "      <td>40.0</td>\n",
       "    </tr>\n",
       "    <tr>\n",
       "      <th>8</th>\n",
       "      <td>Запустить акцию, дающую скидку на товар в день рождения</td>\n",
       "      <td>1</td>\n",
       "      <td>9</td>\n",
       "      <td>9</td>\n",
       "      <td>5</td>\n",
       "      <td>16.20</td>\n",
       "      <td>16.2</td>\n",
       "    </tr>\n",
       "    <tr>\n",
       "      <th>3</th>\n",
       "      <td>Изменить структура категорий, что увеличит конверсию, т.к. пользователи быстрее найдут нужный товар</td>\n",
       "      <td>8</td>\n",
       "      <td>3</td>\n",
       "      <td>3</td>\n",
       "      <td>8</td>\n",
       "      <td>1.12</td>\n",
       "      <td>9.0</td>\n",
       "    </tr>\n",
       "    <tr>\n",
       "      <th>1</th>\n",
       "      <td>Запустить собственную службу доставки, что сократит срок доставки заказов</td>\n",
       "      <td>2</td>\n",
       "      <td>5</td>\n",
       "      <td>4</td>\n",
       "      <td>10</td>\n",
       "      <td>2.00</td>\n",
       "      <td>4.0</td>\n",
       "    </tr>\n",
       "    <tr>\n",
       "      <th>5</th>\n",
       "      <td>Добавить страницу отзывов клиентов о магазине, что позволит увеличить количество заказов</td>\n",
       "      <td>3</td>\n",
       "      <td>2</td>\n",
       "      <td>2</td>\n",
       "      <td>3</td>\n",
       "      <td>1.33</td>\n",
       "      <td>4.0</td>\n",
       "    </tr>\n",
       "    <tr>\n",
       "      <th>4</th>\n",
       "      <td>Изменить цвет фона главной страницы, чтобы увеличить вовлеченность пользователей</td>\n",
       "      <td>3</td>\n",
       "      <td>1</td>\n",
       "      <td>1</td>\n",
       "      <td>1</td>\n",
       "      <td>1.00</td>\n",
       "      <td>3.0</td>\n",
       "    </tr>\n",
       "  </tbody>\n",
       "</table>\n",
       "</div>"
      ],
      "text/plain": [
       "                                                                                                     hypothesis  \\\n",
       "7              Добавить форму подписки на все основные страницы, чтобы собрать базу клиентов для email-рассылок   \n",
       "2  Добавить блоки рекомендаций товаров на сайт интернет магазина, чтобы повысить конверсию и средний чек заказа   \n",
       "0            Добавить два новых канала привлечения трафика, что позволит привлекать на 30% больше пользователей   \n",
       "6          Показать на главной странице баннеры с актуальными акциями и распродажами, чтобы увеличить конверсию   \n",
       "8                                                       Запустить акцию, дающую скидку на товар в день рождения   \n",
       "3           Изменить структура категорий, что увеличит конверсию, т.к. пользователи быстрее найдут нужный товар   \n",
       "1                                     Запустить собственную службу доставки, что сократит срок доставки заказов   \n",
       "5                      Добавить страницу отзывов клиентов о магазине, что позволит увеличить количество заказов   \n",
       "4                              Изменить цвет фона главной страницы, чтобы увеличить вовлеченность пользователей   \n",
       "\n",
       "   reach  impact  confidence  efforts    ICE   RICE  \n",
       "7     10       7           8        5  11.20  112.0  \n",
       "2      8       3           7        3   7.00   56.0  \n",
       "0      3      10           8        6  13.33   40.0  \n",
       "6      5       3           8        3   8.00   40.0  \n",
       "8      1       9           9        5  16.20   16.2  \n",
       "3      8       3           3        8   1.12    9.0  \n",
       "1      2       5           4       10   2.00    4.0  \n",
       "5      3       2           2        3   1.33    4.0  \n",
       "4      3       1           1        1   1.00    3.0  "
      ]
     },
     "execution_count": 12,
     "metadata": {},
     "output_type": "execute_result"
    }
   ],
   "source": [
    "hypothesis.sort_values('RICE', ascending=False)"
   ]
  },
  {
   "cell_type": "markdown",
   "id": "5f831fb4",
   "metadata": {},
   "source": [
    "В явных лидерах для фремворках ICE и RICE являются гипотезы: \"добавить форму подписки на все основные страницы, чтобы собрать базу клиентов для email-рассылок\", \"добавить два новых канала привлечения трафика, что позволит привлекать на 30% больше пользователей\", поэтому первоначально стоит протестировать их. Гипотезы \"показать на главной странице баннеры с актуальными акциями и распродажами, чтобы увеличить конверсию\" и \"добавить блоки рекомендаций товаров на сайт интернет магазина, чтобы повысить конверсию и средний чек заказа\" также показывают неплохи результаты, поэтому после можно протестировать их. Несмотря на то, что у гипотезы \"запустить акцию, дающую скидку на товар в день рождения\" самый наивысший параметр ICE, измнения от этой гипотезы затрагивают очень малую долю пользователей(параметр reach=1), поэтому параметр RICE у нее находится лишь на 5 месте."
   ]
  },
  {
   "cell_type": "markdown",
   "id": "77151ed4",
   "metadata": {},
   "source": [
    "Фремворк ICE легко применим, он не требует много данных и расчетов, фремворк RICE использует более объективные данные и чёткие критерии для измерения переменных, а не личные ощущения от 1 до 10.  Этот фреймворк учитывает больше важных факторов для приоритизации. \n"
   ]
  },
  {
   "cell_type": "markdown",
   "id": "8478b438",
   "metadata": {},
   "source": [
    "1) ICE фреймворк подойдет в том случае, когда:\n",
    "- нужно быстро приоритизировать гипотезы по готовой формуле и не искать точные данные для разных переменных отдельно.\n",
    "- известно мало данных о продукте, пользователях и нет возможности их собрать.\n",
    "- продукт разрабатывается с нуля и неоткуда достать данные о пользователях и рынке."
   ]
  },
  {
   "cell_type": "markdown",
   "id": "d0ff8fca",
   "metadata": {},
   "source": [
    "2) RICE фреймворк подойдет в том случае, когда:\n",
    "- есть много данных о продукте, их можно собрать и проанализировать.\n",
    "-  нужны более объективные критерии для измерения параметров.ё"
   ]
  },
  {
   "cell_type": "markdown",
   "id": "3479e1de",
   "metadata": {},
   "source": [
    "Часть 2. Анализ A/B-теста"
   ]
  },
  {
   "cell_type": "code",
   "execution_count": 13,
   "id": "d302f08b",
   "metadata": {},
   "outputs": [
    {
     "data": {
      "text/html": [
       "<div>\n",
       "<style scoped>\n",
       "    .dataframe tbody tr th:only-of-type {\n",
       "        vertical-align: middle;\n",
       "    }\n",
       "\n",
       "    .dataframe tbody tr th {\n",
       "        vertical-align: top;\n",
       "    }\n",
       "\n",
       "    .dataframe thead th {\n",
       "        text-align: right;\n",
       "    }\n",
       "</style>\n",
       "<table border=\"1\" class=\"dataframe\">\n",
       "  <thead>\n",
       "    <tr style=\"text-align: right;\">\n",
       "      <th></th>\n",
       "      <th>transactionId</th>\n",
       "      <th>visitorId</th>\n",
       "      <th>date</th>\n",
       "      <th>revenue</th>\n",
       "      <th>group</th>\n",
       "    </tr>\n",
       "  </thead>\n",
       "  <tbody>\n",
       "    <tr>\n",
       "      <th>0</th>\n",
       "      <td>3667963787</td>\n",
       "      <td>3312258926</td>\n",
       "      <td>2019-08-15</td>\n",
       "      <td>1650</td>\n",
       "      <td>B</td>\n",
       "    </tr>\n",
       "    <tr>\n",
       "      <th>1</th>\n",
       "      <td>2804400009</td>\n",
       "      <td>3642806036</td>\n",
       "      <td>2019-08-15</td>\n",
       "      <td>730</td>\n",
       "      <td>B</td>\n",
       "    </tr>\n",
       "    <tr>\n",
       "      <th>2</th>\n",
       "      <td>2961555356</td>\n",
       "      <td>4069496402</td>\n",
       "      <td>2019-08-15</td>\n",
       "      <td>400</td>\n",
       "      <td>A</td>\n",
       "    </tr>\n",
       "    <tr>\n",
       "      <th>3</th>\n",
       "      <td>3797467345</td>\n",
       "      <td>1196621759</td>\n",
       "      <td>2019-08-15</td>\n",
       "      <td>9759</td>\n",
       "      <td>B</td>\n",
       "    </tr>\n",
       "    <tr>\n",
       "      <th>4</th>\n",
       "      <td>2282983706</td>\n",
       "      <td>2322279887</td>\n",
       "      <td>2019-08-15</td>\n",
       "      <td>2308</td>\n",
       "      <td>B</td>\n",
       "    </tr>\n",
       "  </tbody>\n",
       "</table>\n",
       "</div>"
      ],
      "text/plain": [
       "   transactionId   visitorId        date  revenue group\n",
       "0     3667963787  3312258926  2019-08-15     1650     B\n",
       "1     2804400009  3642806036  2019-08-15      730     B\n",
       "2     2961555356  4069496402  2019-08-15      400     A\n",
       "3     3797467345  1196621759  2019-08-15     9759     B\n",
       "4     2282983706  2322279887  2019-08-15     2308     B"
      ]
     },
     "execution_count": 13,
     "metadata": {},
     "output_type": "execute_result"
    }
   ],
   "source": [
    "orders.head()"
   ]
  },
  {
   "cell_type": "code",
   "execution_count": 14,
   "id": "760c994d",
   "metadata": {},
   "outputs": [
    {
     "name": "stdout",
     "output_type": "stream",
     "text": [
      "<class 'pandas.core.frame.DataFrame'>\n",
      "RangeIndex: 1197 entries, 0 to 1196\n",
      "Data columns (total 5 columns):\n",
      " #   Column         Non-Null Count  Dtype \n",
      "---  ------         --------------  ----- \n",
      " 0   transactionId  1197 non-null   int64 \n",
      " 1   visitorId      1197 non-null   int64 \n",
      " 2   date           1197 non-null   object\n",
      " 3   revenue        1197 non-null   int64 \n",
      " 4   group          1197 non-null   object\n",
      "dtypes: int64(3), object(2)\n",
      "memory usage: 46.9+ KB\n"
     ]
    }
   ],
   "source": [
    "orders.info()"
   ]
  },
  {
   "cell_type": "code",
   "execution_count": 15,
   "id": "9bd4e8a2",
   "metadata": {},
   "outputs": [
    {
     "data": {
      "text/html": [
       "<div>\n",
       "<style scoped>\n",
       "    .dataframe tbody tr th:only-of-type {\n",
       "        vertical-align: middle;\n",
       "    }\n",
       "\n",
       "    .dataframe tbody tr th {\n",
       "        vertical-align: top;\n",
       "    }\n",
       "\n",
       "    .dataframe thead th {\n",
       "        text-align: right;\n",
       "    }\n",
       "</style>\n",
       "<table border=\"1\" class=\"dataframe\">\n",
       "  <thead>\n",
       "    <tr style=\"text-align: right;\">\n",
       "      <th></th>\n",
       "      <th>date</th>\n",
       "      <th>group</th>\n",
       "      <th>visitors</th>\n",
       "    </tr>\n",
       "  </thead>\n",
       "  <tbody>\n",
       "    <tr>\n",
       "      <th>0</th>\n",
       "      <td>2019-08-01</td>\n",
       "      <td>A</td>\n",
       "      <td>719</td>\n",
       "    </tr>\n",
       "    <tr>\n",
       "      <th>1</th>\n",
       "      <td>2019-08-02</td>\n",
       "      <td>A</td>\n",
       "      <td>619</td>\n",
       "    </tr>\n",
       "    <tr>\n",
       "      <th>2</th>\n",
       "      <td>2019-08-03</td>\n",
       "      <td>A</td>\n",
       "      <td>507</td>\n",
       "    </tr>\n",
       "    <tr>\n",
       "      <th>3</th>\n",
       "      <td>2019-08-04</td>\n",
       "      <td>A</td>\n",
       "      <td>717</td>\n",
       "    </tr>\n",
       "    <tr>\n",
       "      <th>4</th>\n",
       "      <td>2019-08-05</td>\n",
       "      <td>A</td>\n",
       "      <td>756</td>\n",
       "    </tr>\n",
       "  </tbody>\n",
       "</table>\n",
       "</div>"
      ],
      "text/plain": [
       "         date group  visitors\n",
       "0  2019-08-01     A       719\n",
       "1  2019-08-02     A       619\n",
       "2  2019-08-03     A       507\n",
       "3  2019-08-04     A       717\n",
       "4  2019-08-05     A       756"
      ]
     },
     "execution_count": 15,
     "metadata": {},
     "output_type": "execute_result"
    }
   ],
   "source": [
    "visitors.head()"
   ]
  },
  {
   "cell_type": "code",
   "execution_count": 16,
   "id": "cb02b9cf",
   "metadata": {},
   "outputs": [
    {
     "name": "stdout",
     "output_type": "stream",
     "text": [
      "<class 'pandas.core.frame.DataFrame'>\n",
      "RangeIndex: 62 entries, 0 to 61\n",
      "Data columns (total 3 columns):\n",
      " #   Column    Non-Null Count  Dtype \n",
      "---  ------    --------------  ----- \n",
      " 0   date      62 non-null     object\n",
      " 1   group     62 non-null     object\n",
      " 2   visitors  62 non-null     int64 \n",
      "dtypes: int64(1), object(2)\n",
      "memory usage: 1.6+ KB\n"
     ]
    }
   ],
   "source": [
    "visitors.info()"
   ]
  },
  {
   "cell_type": "markdown",
   "id": "a8f0f2b3",
   "metadata": {},
   "source": [
    "Приведем данные к типу даты."
   ]
  },
  {
   "cell_type": "code",
   "execution_count": 17,
   "id": "b603a925",
   "metadata": {},
   "outputs": [],
   "source": [
    "orders['date'] = pd.to_datetime(orders['date'])"
   ]
  },
  {
   "cell_type": "code",
   "execution_count": 18,
   "id": "e52bb785",
   "metadata": {},
   "outputs": [],
   "source": [
    "visitors['date'] = pd.to_datetime(visitors['date'])"
   ]
  },
  {
   "cell_type": "markdown",
   "id": "dac41cf7",
   "metadata": {},
   "source": [
    "Проверим дубликаты."
   ]
  },
  {
   "cell_type": "code",
   "execution_count": 19,
   "id": "8bddaa2a",
   "metadata": {},
   "outputs": [
    {
     "data": {
      "text/plain": [
       "0"
      ]
     },
     "execution_count": 19,
     "metadata": {},
     "output_type": "execute_result"
    }
   ],
   "source": [
    "orders.duplicated().sum()"
   ]
  },
  {
   "cell_type": "code",
   "execution_count": 20,
   "id": "f3833d90",
   "metadata": {},
   "outputs": [
    {
     "data": {
      "text/plain": [
       "0"
      ]
     },
     "execution_count": 20,
     "metadata": {},
     "output_type": "execute_result"
    }
   ],
   "source": [
    "visitors.duplicated().sum()"
   ]
  },
  {
   "cell_type": "markdown",
   "id": "f174a9fe",
   "metadata": {},
   "source": [
    "Дубликаты не обнаружены."
   ]
  },
  {
   "cell_type": "markdown",
   "id": "6711293b",
   "metadata": {},
   "source": [
    "Отбрем пользователей, которые принимали участие в тестировании в обеих группах."
   ]
  },
  {
   "cell_type": "markdown",
   "id": "7dca66d2",
   "metadata": {},
   "source": [
    "Пользователи, которые принимали участие в тестировании в двух группах."
   ]
  },
  {
   "cell_type": "code",
   "execution_count": 21,
   "id": "df4f9e92",
   "metadata": {
    "scrolled": true
   },
   "outputs": [
    {
     "data": {
      "text/html": [
       "<div>\n",
       "<style scoped>\n",
       "    .dataframe tbody tr th:only-of-type {\n",
       "        vertical-align: middle;\n",
       "    }\n",
       "\n",
       "    .dataframe tbody tr th {\n",
       "        vertical-align: top;\n",
       "    }\n",
       "\n",
       "    .dataframe thead th {\n",
       "        text-align: right;\n",
       "    }\n",
       "</style>\n",
       "<table border=\"1\" class=\"dataframe\">\n",
       "  <thead>\n",
       "    <tr style=\"text-align: right;\">\n",
       "      <th></th>\n",
       "      <th>visitorId</th>\n",
       "      <th>group</th>\n",
       "    </tr>\n",
       "  </thead>\n",
       "  <tbody>\n",
       "    <tr>\n",
       "      <th>2</th>\n",
       "      <td>8300375</td>\n",
       "      <td>2</td>\n",
       "    </tr>\n",
       "    <tr>\n",
       "      <th>44</th>\n",
       "      <td>199603092</td>\n",
       "      <td>2</td>\n",
       "    </tr>\n",
       "    <tr>\n",
       "      <th>51</th>\n",
       "      <td>232979603</td>\n",
       "      <td>2</td>\n",
       "    </tr>\n",
       "    <tr>\n",
       "      <th>55</th>\n",
       "      <td>237748145</td>\n",
       "      <td>2</td>\n",
       "    </tr>\n",
       "    <tr>\n",
       "      <th>66</th>\n",
       "      <td>276558944</td>\n",
       "      <td>2</td>\n",
       "    </tr>\n",
       "  </tbody>\n",
       "</table>\n",
       "</div>"
      ],
      "text/plain": [
       "    visitorId  group\n",
       "2     8300375      2\n",
       "44  199603092      2\n",
       "51  232979603      2\n",
       "55  237748145      2\n",
       "66  276558944      2"
      ]
     },
     "execution_count": 21,
     "metadata": {},
     "output_type": "execute_result"
    }
   ],
   "source": [
    "orders.groupby('visitorId')['group'].nunique().reset_index().query('group > 1').head()"
   ]
  },
  {
   "cell_type": "markdown",
   "id": "f4aa8f33",
   "metadata": {},
   "source": [
    "Удалим данных пользователей из данных"
   ]
  },
  {
   "cell_type": "code",
   "execution_count": 22,
   "id": "e2983180",
   "metadata": {},
   "outputs": [],
   "source": [
    "orders = orders[~(orders['visitorId'].isin(orders.groupby('visitorId')['group'].nunique().reset_index().query('group > 1')['visitorId'].to_numpy()))]"
   ]
  },
  {
   "cell_type": "code",
   "execution_count": 23,
   "id": "bcf425ab",
   "metadata": {},
   "outputs": [],
   "source": [
    "orders = orders.reset_index(drop=True)"
   ]
  },
  {
   "cell_type": "code",
   "execution_count": 24,
   "id": "689dc7fc",
   "metadata": {},
   "outputs": [
    {
     "data": {
      "text/html": [
       "<div>\n",
       "<style scoped>\n",
       "    .dataframe tbody tr th:only-of-type {\n",
       "        vertical-align: middle;\n",
       "    }\n",
       "\n",
       "    .dataframe tbody tr th {\n",
       "        vertical-align: top;\n",
       "    }\n",
       "\n",
       "    .dataframe thead th {\n",
       "        text-align: right;\n",
       "    }\n",
       "</style>\n",
       "<table border=\"1\" class=\"dataframe\">\n",
       "  <thead>\n",
       "    <tr style=\"text-align: right;\">\n",
       "      <th></th>\n",
       "      <th>transactionId</th>\n",
       "      <th>visitorId</th>\n",
       "      <th>date</th>\n",
       "      <th>revenue</th>\n",
       "      <th>group</th>\n",
       "    </tr>\n",
       "  </thead>\n",
       "  <tbody>\n",
       "    <tr>\n",
       "      <th>0</th>\n",
       "      <td>3667963787</td>\n",
       "      <td>3312258926</td>\n",
       "      <td>2019-08-15</td>\n",
       "      <td>1650</td>\n",
       "      <td>B</td>\n",
       "    </tr>\n",
       "    <tr>\n",
       "      <th>1</th>\n",
       "      <td>2804400009</td>\n",
       "      <td>3642806036</td>\n",
       "      <td>2019-08-15</td>\n",
       "      <td>730</td>\n",
       "      <td>B</td>\n",
       "    </tr>\n",
       "    <tr>\n",
       "      <th>2</th>\n",
       "      <td>3797467345</td>\n",
       "      <td>1196621759</td>\n",
       "      <td>2019-08-15</td>\n",
       "      <td>9759</td>\n",
       "      <td>B</td>\n",
       "    </tr>\n",
       "    <tr>\n",
       "      <th>3</th>\n",
       "      <td>2282983706</td>\n",
       "      <td>2322279887</td>\n",
       "      <td>2019-08-15</td>\n",
       "      <td>2308</td>\n",
       "      <td>B</td>\n",
       "    </tr>\n",
       "    <tr>\n",
       "      <th>4</th>\n",
       "      <td>182168103</td>\n",
       "      <td>935554773</td>\n",
       "      <td>2019-08-15</td>\n",
       "      <td>2210</td>\n",
       "      <td>B</td>\n",
       "    </tr>\n",
       "  </tbody>\n",
       "</table>\n",
       "</div>"
      ],
      "text/plain": [
       "   transactionId   visitorId       date  revenue group\n",
       "0     3667963787  3312258926 2019-08-15     1650     B\n",
       "1     2804400009  3642806036 2019-08-15      730     B\n",
       "2     3797467345  1196621759 2019-08-15     9759     B\n",
       "3     2282983706  2322279887 2019-08-15     2308     B\n",
       "4      182168103   935554773 2019-08-15     2210     B"
      ]
     },
     "execution_count": 24,
     "metadata": {},
     "output_type": "execute_result"
    }
   ],
   "source": [
    "orders.head()"
   ]
  },
  {
   "cell_type": "markdown",
   "id": "41955e56",
   "metadata": {},
   "source": [
    "Проверим еще раз, не осталось ли пользователей, участвовавших в нескольких группах теста одновременно."
   ]
  },
  {
   "cell_type": "code",
   "execution_count": 25,
   "id": "40e76c45",
   "metadata": {},
   "outputs": [
    {
     "data": {
      "text/plain": [
       "visitorId    0\n",
       "group        0\n",
       "dtype: int64"
      ]
     },
     "execution_count": 25,
     "metadata": {},
     "output_type": "execute_result"
    }
   ],
   "source": [
    "orders.groupby('visitorId')['group'].nunique().reset_index().query('group > 1').count()"
   ]
  },
  {
   "cell_type": "code",
   "execution_count": 26,
   "id": "bccdb424",
   "metadata": {
    "scrolled": true
   },
   "outputs": [
    {
     "data": {
      "text/plain": [
       "group\n",
       "B    548\n",
       "A    468\n",
       "Name: count, dtype: int64"
      ]
     },
     "execution_count": 26,
     "metadata": {},
     "output_type": "execute_result"
    }
   ],
   "source": [
    "orders['group'].value_counts()"
   ]
  },
  {
   "cell_type": "markdown",
   "id": "d7a7684d",
   "metadata": {},
   "source": [
    "В тесте две группы. "
   ]
  },
  {
   "cell_type": "code",
   "execution_count": 27,
   "id": "d75f57f3",
   "metadata": {},
   "outputs": [
    {
     "data": {
      "text/plain": [
       "Timestamp('2019-08-01 00:00:00')"
      ]
     },
     "execution_count": 27,
     "metadata": {},
     "output_type": "execute_result"
    }
   ],
   "source": [
    "orders['date'].min()"
   ]
  },
  {
   "cell_type": "code",
   "execution_count": 28,
   "id": "758dab9e",
   "metadata": {},
   "outputs": [
    {
     "data": {
      "text/plain": [
       "Timestamp('2019-08-31 00:00:00')"
      ]
     },
     "execution_count": 28,
     "metadata": {},
     "output_type": "execute_result"
    }
   ],
   "source": [
    "orders['date'].max()"
   ]
  },
  {
   "cell_type": "markdown",
   "id": "72aa7d38",
   "metadata": {},
   "source": [
    "Тест проводился один месяц с 1 по 31 августа 2019 года."
   ]
  },
  {
   "cell_type": "code",
   "execution_count": 29,
   "id": "59c99936",
   "metadata": {},
   "outputs": [
    {
     "data": {
      "text/plain": [
       "445"
      ]
     },
     "execution_count": 29,
     "metadata": {},
     "output_type": "execute_result"
    }
   ],
   "source": [
    "orders.query('group == \"A\"')['visitorId'].nunique()"
   ]
  },
  {
   "cell_type": "code",
   "execution_count": 30,
   "id": "4bae0b64",
   "metadata": {},
   "outputs": [
    {
     "data": {
      "text/plain": [
       "528"
      ]
     },
     "execution_count": 30,
     "metadata": {},
     "output_type": "execute_result"
    }
   ],
   "source": [
    "orders.query('group == \"B\"')['visitorId'].nunique()"
   ]
  },
  {
   "cell_type": "markdown",
   "id": "3a051f7a",
   "metadata": {},
   "source": [
    "Количество уникальных пользователей в группе A - 445, B - 586. Группы можно считать сбалансрованными. "
   ]
  },
  {
   "cell_type": "markdown",
   "id": "dde268e3",
   "metadata": {},
   "source": [
    "Найдем куммулятивную выручку по группам А и B."
   ]
  },
  {
   "cell_type": "code",
   "execution_count": 31,
   "id": "5d2aa430",
   "metadata": {},
   "outputs": [],
   "source": [
    "cumulativeRevenueA = orders.query('group == \"A\"').groupby('date')[['revenue', 'transactionId']].agg({'revenue':'sum', 'transactionId': 'nunique'}).cumsum()"
   ]
  },
  {
   "cell_type": "code",
   "execution_count": 32,
   "id": "40c55b48",
   "metadata": {},
   "outputs": [],
   "source": [
    "cumulativeRevenueB = orders.query('group == \"B\"').groupby('date')[['revenue', 'transactionId']].agg({'revenue':'sum', 'transactionId': 'nunique'}).cumsum()"
   ]
  },
  {
   "cell_type": "code",
   "execution_count": 33,
   "id": "d8181a2a",
   "metadata": {},
   "outputs": [
    {
     "data": {
      "text/html": [
       "<div>\n",
       "<style scoped>\n",
       "    .dataframe tbody tr th:only-of-type {\n",
       "        vertical-align: middle;\n",
       "    }\n",
       "\n",
       "    .dataframe tbody tr th {\n",
       "        vertical-align: top;\n",
       "    }\n",
       "\n",
       "    .dataframe thead th {\n",
       "        text-align: right;\n",
       "    }\n",
       "</style>\n",
       "<table border=\"1\" class=\"dataframe\">\n",
       "  <thead>\n",
       "    <tr style=\"text-align: right;\">\n",
       "      <th></th>\n",
       "      <th>revenue</th>\n",
       "      <th>transactionId</th>\n",
       "    </tr>\n",
       "    <tr>\n",
       "      <th>date</th>\n",
       "      <th></th>\n",
       "      <th></th>\n",
       "    </tr>\n",
       "  </thead>\n",
       "  <tbody>\n",
       "    <tr>\n",
       "      <th>2019-08-01</th>\n",
       "      <td>142779</td>\n",
       "      <td>23</td>\n",
       "    </tr>\n",
       "    <tr>\n",
       "      <th>2019-08-02</th>\n",
       "      <td>234381</td>\n",
       "      <td>42</td>\n",
       "    </tr>\n",
       "    <tr>\n",
       "      <th>2019-08-03</th>\n",
       "      <td>346854</td>\n",
       "      <td>66</td>\n",
       "    </tr>\n",
       "    <tr>\n",
       "      <th>2019-08-04</th>\n",
       "      <td>388030</td>\n",
       "      <td>77</td>\n",
       "    </tr>\n",
       "    <tr>\n",
       "      <th>2019-08-05</th>\n",
       "      <td>474413</td>\n",
       "      <td>99</td>\n",
       "    </tr>\n",
       "    <tr>\n",
       "      <th>2019-08-06</th>\n",
       "      <td>515332</td>\n",
       "      <td>114</td>\n",
       "    </tr>\n",
       "    <tr>\n",
       "      <th>2019-08-07</th>\n",
       "      <td>638580</td>\n",
       "      <td>130</td>\n",
       "    </tr>\n",
       "    <tr>\n",
       "      <th>2019-08-08</th>\n",
       "      <td>727219</td>\n",
       "      <td>144</td>\n",
       "    </tr>\n",
       "    <tr>\n",
       "      <th>2019-08-09</th>\n",
       "      <td>861456</td>\n",
       "      <td>155</td>\n",
       "    </tr>\n",
       "    <tr>\n",
       "      <th>2019-08-10</th>\n",
       "      <td>1013731</td>\n",
       "      <td>170</td>\n",
       "    </tr>\n",
       "  </tbody>\n",
       "</table>\n",
       "</div>"
      ],
      "text/plain": [
       "            revenue  transactionId\n",
       "date                              \n",
       "2019-08-01   142779             23\n",
       "2019-08-02   234381             42\n",
       "2019-08-03   346854             66\n",
       "2019-08-04   388030             77\n",
       "2019-08-05   474413             99\n",
       "2019-08-06   515332            114\n",
       "2019-08-07   638580            130\n",
       "2019-08-08   727219            144\n",
       "2019-08-09   861456            155\n",
       "2019-08-10  1013731            170"
      ]
     },
     "execution_count": 33,
     "metadata": {},
     "output_type": "execute_result"
    }
   ],
   "source": [
    "cumulativeRevenueA.head(10)"
   ]
  },
  {
   "cell_type": "code",
   "execution_count": 34,
   "id": "165850bd",
   "metadata": {},
   "outputs": [
    {
     "data": {
      "image/png": "[encoded data removed]",
      "text/plain": [
       "<Figure size 1200x800 with 1 Axes>"
      ]
     },
     "metadata": {},
     "output_type": "display_data"
    }
   ],
   "source": [
    "plt.figure(figsize=(12,8))\n",
    "plt.plot(cumulativeRevenueA['revenue'], label='A')\n",
    "plt.plot(cumulativeRevenueB['revenue'], label='B')\n",
    "plt.xlabel('Дата', color='gray')\n",
    "plt.ylabel('Кумулятивная выручка', color='gray')\n",
    "plt.title('График кумулятивной выручки по группам')\n",
    "plt.legend()\n",
    "plt.show()"
   ]
  },
  {
   "cell_type": "markdown",
   "id": "1ea11412",
   "metadata": {},
   "source": [
    "Выручка увеличивается на протяжении всего периода у обеих групп. У группы B выручка стабильно выше группы А, а также наблюдается резкий скачок в увеличинии в середине периода."
   ]
  },
  {
   "cell_type": "code",
   "execution_count": 35,
   "id": "b37ba7ab",
   "metadata": {},
   "outputs": [
    {
     "data": {
      "image/png": "[encoded data removed]",
      "text/plain": [
       "<Figure size 1200x600 with 1 Axes>"
      ]
     },
     "metadata": {},
     "output_type": "display_data"
    }
   ],
   "source": [
    "plt.plot(cumulativeRevenueA['revenue'] / cumulativeRevenueA['transactionId'], label='A')\n",
    "plt.plot(cumulativeRevenueB['revenue'] / cumulativeRevenueB['transactionId'], label='B')\n",
    "plt.xlabel('Дата', color='gray')\n",
    "plt.ylabel('Кумулятивный средний чек', color='gray')\n",
    "plt.title('График кумулятивного среднего чека по группам')\n",
    "plt.legend()\n",
    "plt.show()"
   ]
  },
  {
   "cell_type": "markdown",
   "id": "d8df8660",
   "metadata": {},
   "source": [
    "Средний чек становится равномерным к концу периода. У группы B есть также резкий скачок в увеличении среднего чека."
   ]
  },
  {
   "cell_type": "markdown",
   "id": "a14919e8",
   "metadata": {},
   "source": [
    "Объединим данные по группам."
   ]
  },
  {
   "cell_type": "code",
   "execution_count": 36,
   "id": "d4b200bd",
   "metadata": {},
   "outputs": [],
   "source": [
    "mergedCumulativeRevenue = cumulativeRevenueA.merge(cumulativeRevenueB, on='date', suffixes=('A', 'B'))"
   ]
  },
  {
   "cell_type": "code",
   "execution_count": 37,
   "id": "16d9c90b",
   "metadata": {},
   "outputs": [],
   "source": [
    "mergedCumulativeRevenue.columns = ['revenueA', 'ordersA', 'revenueB', 'ordersB']"
   ]
  },
  {
   "cell_type": "code",
   "execution_count": 38,
   "id": "01959a25",
   "metadata": {},
   "outputs": [
    {
     "data": {
      "text/html": [
       "<div>\n",
       "<style scoped>\n",
       "    .dataframe tbody tr th:only-of-type {\n",
       "        vertical-align: middle;\n",
       "    }\n",
       "\n",
       "    .dataframe tbody tr th {\n",
       "        vertical-align: top;\n",
       "    }\n",
       "\n",
       "    .dataframe thead th {\n",
       "        text-align: right;\n",
       "    }\n",
       "</style>\n",
       "<table border=\"1\" class=\"dataframe\">\n",
       "  <thead>\n",
       "    <tr style=\"text-align: right;\">\n",
       "      <th></th>\n",
       "      <th>revenueA</th>\n",
       "      <th>ordersA</th>\n",
       "      <th>revenueB</th>\n",
       "      <th>ordersB</th>\n",
       "    </tr>\n",
       "    <tr>\n",
       "      <th>date</th>\n",
       "      <th></th>\n",
       "      <th></th>\n",
       "      <th></th>\n",
       "      <th></th>\n",
       "    </tr>\n",
       "  </thead>\n",
       "  <tbody>\n",
       "    <tr>\n",
       "      <th>2019-08-01</th>\n",
       "      <td>142779</td>\n",
       "      <td>23</td>\n",
       "      <td>59758</td>\n",
       "      <td>17</td>\n",
       "    </tr>\n",
       "    <tr>\n",
       "      <th>2019-08-02</th>\n",
       "      <td>234381</td>\n",
       "      <td>42</td>\n",
       "      <td>221801</td>\n",
       "      <td>40</td>\n",
       "    </tr>\n",
       "    <tr>\n",
       "      <th>2019-08-03</th>\n",
       "      <td>346854</td>\n",
       "      <td>66</td>\n",
       "      <td>288850</td>\n",
       "      <td>54</td>\n",
       "    </tr>\n",
       "    <tr>\n",
       "      <th>2019-08-04</th>\n",
       "      <td>388030</td>\n",
       "      <td>77</td>\n",
       "      <td>385740</td>\n",
       "      <td>68</td>\n",
       "    </tr>\n",
       "    <tr>\n",
       "      <th>2019-08-05</th>\n",
       "      <td>474413</td>\n",
       "      <td>99</td>\n",
       "      <td>475648</td>\n",
       "      <td>89</td>\n",
       "    </tr>\n",
       "    <tr>\n",
       "      <th>2019-08-06</th>\n",
       "      <td>515332</td>\n",
       "      <td>114</td>\n",
       "      <td>690490</td>\n",
       "      <td>112</td>\n",
       "    </tr>\n",
       "    <tr>\n",
       "      <th>2019-08-07</th>\n",
       "      <td>638580</td>\n",
       "      <td>130</td>\n",
       "      <td>909654</td>\n",
       "      <td>135</td>\n",
       "    </tr>\n",
       "    <tr>\n",
       "      <th>2019-08-08</th>\n",
       "      <td>727219</td>\n",
       "      <td>144</td>\n",
       "      <td>1059795</td>\n",
       "      <td>157</td>\n",
       "    </tr>\n",
       "    <tr>\n",
       "      <th>2019-08-09</th>\n",
       "      <td>861456</td>\n",
       "      <td>155</td>\n",
       "      <td>1162961</td>\n",
       "      <td>176</td>\n",
       "    </tr>\n",
       "    <tr>\n",
       "      <th>2019-08-10</th>\n",
       "      <td>1013731</td>\n",
       "      <td>170</td>\n",
       "      <td>1268123</td>\n",
       "      <td>198</td>\n",
       "    </tr>\n",
       "  </tbody>\n",
       "</table>\n",
       "</div>"
      ],
      "text/plain": [
       "            revenueA  ordersA  revenueB  ordersB\n",
       "date                                            \n",
       "2019-08-01    142779       23     59758       17\n",
       "2019-08-02    234381       42    221801       40\n",
       "2019-08-03    346854       66    288850       54\n",
       "2019-08-04    388030       77    385740       68\n",
       "2019-08-05    474413       99    475648       89\n",
       "2019-08-06    515332      114    690490      112\n",
       "2019-08-07    638580      130    909654      135\n",
       "2019-08-08    727219      144   1059795      157\n",
       "2019-08-09    861456      155   1162961      176\n",
       "2019-08-10   1013731      170   1268123      198"
      ]
     },
     "execution_count": 38,
     "metadata": {},
     "output_type": "execute_result"
    }
   ],
   "source": [
    "mergedCumulativeRevenue.head(10)"
   ]
  },
  {
   "cell_type": "code",
   "execution_count": 39,
   "id": "3a47be72",
   "metadata": {},
   "outputs": [
    {
     "data": {
      "image/png": "[encoded data removed]",
      "text/plain": [
       "<Figure size 1200x600 with 1 Axes>"
      ]
     },
     "metadata": {},
     "output_type": "display_data"
    }
   ],
   "source": [
    "plt.plot((mergedCumulativeRevenue['revenueB'] / mergedCumulativeRevenue['ordersB']) / (mergedCumulativeRevenue['revenueA'] / mergedCumulativeRevenue['ordersA']) - 1)\n",
    "plt.xlabel('Дата', color='gray')\n",
    "plt.ylabel('Изменение кумулятивного среднего чека группы B к группе A', color='gray')\n",
    "plt.title('График относительного изменения кумулятивного среднего чека группы B к группе A')\n",
    "plt.axhline(y=0, color='black', linestyle='--')\n",
    "plt.show()"
   ]
  },
  {
   "cell_type": "markdown",
   "id": "11aa4266",
   "metadata": {},
   "source": [
    "Куммулятивное среднее у группы B выше группы А за исключением начального периода и даты 13.08.2019. Также в нескольких точках график различия между группами сильно."
   ]
  },
  {
   "cell_type": "code",
   "execution_count": 40,
   "id": "84ad9611",
   "metadata": {},
   "outputs": [
    {
     "data": {
      "text/html": [
       "<div>\n",
       "<style scoped>\n",
       "    .dataframe tbody tr th:only-of-type {\n",
       "        vertical-align: middle;\n",
       "    }\n",
       "\n",
       "    .dataframe tbody tr th {\n",
       "        vertical-align: top;\n",
       "    }\n",
       "\n",
       "    .dataframe thead th {\n",
       "        text-align: right;\n",
       "    }\n",
       "</style>\n",
       "<table border=\"1\" class=\"dataframe\">\n",
       "  <thead>\n",
       "    <tr style=\"text-align: right;\">\n",
       "      <th></th>\n",
       "      <th>date</th>\n",
       "      <th>group</th>\n",
       "      <th>visitors</th>\n",
       "    </tr>\n",
       "  </thead>\n",
       "  <tbody>\n",
       "    <tr>\n",
       "      <th>0</th>\n",
       "      <td>2019-08-01</td>\n",
       "      <td>A</td>\n",
       "      <td>719</td>\n",
       "    </tr>\n",
       "    <tr>\n",
       "      <th>1</th>\n",
       "      <td>2019-08-02</td>\n",
       "      <td>A</td>\n",
       "      <td>619</td>\n",
       "    </tr>\n",
       "    <tr>\n",
       "      <th>2</th>\n",
       "      <td>2019-08-03</td>\n",
       "      <td>A</td>\n",
       "      <td>507</td>\n",
       "    </tr>\n",
       "    <tr>\n",
       "      <th>3</th>\n",
       "      <td>2019-08-04</td>\n",
       "      <td>A</td>\n",
       "      <td>717</td>\n",
       "    </tr>\n",
       "    <tr>\n",
       "      <th>4</th>\n",
       "      <td>2019-08-05</td>\n",
       "      <td>A</td>\n",
       "      <td>756</td>\n",
       "    </tr>\n",
       "    <tr>\n",
       "      <th>5</th>\n",
       "      <td>2019-08-06</td>\n",
       "      <td>A</td>\n",
       "      <td>667</td>\n",
       "    </tr>\n",
       "    <tr>\n",
       "      <th>6</th>\n",
       "      <td>2019-08-07</td>\n",
       "      <td>A</td>\n",
       "      <td>644</td>\n",
       "    </tr>\n",
       "    <tr>\n",
       "      <th>7</th>\n",
       "      <td>2019-08-08</td>\n",
       "      <td>A</td>\n",
       "      <td>610</td>\n",
       "    </tr>\n",
       "    <tr>\n",
       "      <th>8</th>\n",
       "      <td>2019-08-09</td>\n",
       "      <td>A</td>\n",
       "      <td>617</td>\n",
       "    </tr>\n",
       "    <tr>\n",
       "      <th>9</th>\n",
       "      <td>2019-08-10</td>\n",
       "      <td>A</td>\n",
       "      <td>406</td>\n",
       "    </tr>\n",
       "  </tbody>\n",
       "</table>\n",
       "</div>"
      ],
      "text/plain": [
       "        date group  visitors\n",
       "0 2019-08-01     A       719\n",
       "1 2019-08-02     A       619\n",
       "2 2019-08-03     A       507\n",
       "3 2019-08-04     A       717\n",
       "4 2019-08-05     A       756\n",
       "5 2019-08-06     A       667\n",
       "6 2019-08-07     A       644\n",
       "7 2019-08-08     A       610\n",
       "8 2019-08-09     A       617\n",
       "9 2019-08-10     A       406"
      ]
     },
     "execution_count": 40,
     "metadata": {},
     "output_type": "execute_result"
    }
   ],
   "source": [
    "visitors.head(10)"
   ]
  },
  {
   "cell_type": "markdown",
   "id": "2a9835b9",
   "metadata": {},
   "source": [
    "Объединим данные по группам."
   ]
  },
  {
   "cell_type": "code",
   "execution_count": 41,
   "id": "7d7d5f1f",
   "metadata": {},
   "outputs": [],
   "source": [
    "visitorsA = visitors.query('group == \"A\"').groupby('date')['visitors'].sum().cumsum().reset_index()"
   ]
  },
  {
   "cell_type": "code",
   "execution_count": 42,
   "id": "27fab620",
   "metadata": {},
   "outputs": [],
   "source": [
    "visitorsB = visitors.query('group == \"B\"').groupby('date')['visitors'].sum().cumsum().reset_index()"
   ]
  },
  {
   "cell_type": "code",
   "execution_count": 43,
   "id": "330c4a36",
   "metadata": {},
   "outputs": [],
   "source": [
    "mergeVisitors = visitorsA.merge(visitorsB, on='date', suffixes=('A', 'B'))"
   ]
  },
  {
   "cell_type": "code",
   "execution_count": 44,
   "id": "223b428e",
   "metadata": {},
   "outputs": [],
   "source": [
    "cumulativeData = mergedCumulativeRevenue.merge(mergeVisitors, on='date')"
   ]
  },
  {
   "cell_type": "code",
   "execution_count": 45,
   "id": "91149b62",
   "metadata": {},
   "outputs": [
    {
     "data": {
      "text/html": [
       "<div>\n",
       "<style scoped>\n",
       "    .dataframe tbody tr th:only-of-type {\n",
       "        vertical-align: middle;\n",
       "    }\n",
       "\n",
       "    .dataframe tbody tr th {\n",
       "        vertical-align: top;\n",
       "    }\n",
       "\n",
       "    .dataframe thead th {\n",
       "        text-align: right;\n",
       "    }\n",
       "</style>\n",
       "<table border=\"1\" class=\"dataframe\">\n",
       "  <thead>\n",
       "    <tr style=\"text-align: right;\">\n",
       "      <th></th>\n",
       "      <th>date</th>\n",
       "      <th>revenueA</th>\n",
       "      <th>ordersA</th>\n",
       "      <th>revenueB</th>\n",
       "      <th>ordersB</th>\n",
       "      <th>visitorsA</th>\n",
       "      <th>visitorsB</th>\n",
       "    </tr>\n",
       "  </thead>\n",
       "  <tbody>\n",
       "    <tr>\n",
       "      <th>0</th>\n",
       "      <td>2019-08-01</td>\n",
       "      <td>142779</td>\n",
       "      <td>23</td>\n",
       "      <td>59758</td>\n",
       "      <td>17</td>\n",
       "      <td>719</td>\n",
       "      <td>713</td>\n",
       "    </tr>\n",
       "    <tr>\n",
       "      <th>1</th>\n",
       "      <td>2019-08-02</td>\n",
       "      <td>234381</td>\n",
       "      <td>42</td>\n",
       "      <td>221801</td>\n",
       "      <td>40</td>\n",
       "      <td>1338</td>\n",
       "      <td>1294</td>\n",
       "    </tr>\n",
       "    <tr>\n",
       "      <th>2</th>\n",
       "      <td>2019-08-03</td>\n",
       "      <td>346854</td>\n",
       "      <td>66</td>\n",
       "      <td>288850</td>\n",
       "      <td>54</td>\n",
       "      <td>1845</td>\n",
       "      <td>1803</td>\n",
       "    </tr>\n",
       "    <tr>\n",
       "      <th>3</th>\n",
       "      <td>2019-08-04</td>\n",
       "      <td>388030</td>\n",
       "      <td>77</td>\n",
       "      <td>385740</td>\n",
       "      <td>68</td>\n",
       "      <td>2562</td>\n",
       "      <td>2573</td>\n",
       "    </tr>\n",
       "    <tr>\n",
       "      <th>4</th>\n",
       "      <td>2019-08-05</td>\n",
       "      <td>474413</td>\n",
       "      <td>99</td>\n",
       "      <td>475648</td>\n",
       "      <td>89</td>\n",
       "      <td>3318</td>\n",
       "      <td>3280</td>\n",
       "    </tr>\n",
       "    <tr>\n",
       "      <th>5</th>\n",
       "      <td>2019-08-06</td>\n",
       "      <td>515332</td>\n",
       "      <td>114</td>\n",
       "      <td>690490</td>\n",
       "      <td>112</td>\n",
       "      <td>3985</td>\n",
       "      <td>3935</td>\n",
       "    </tr>\n",
       "    <tr>\n",
       "      <th>6</th>\n",
       "      <td>2019-08-07</td>\n",
       "      <td>638580</td>\n",
       "      <td>130</td>\n",
       "      <td>909654</td>\n",
       "      <td>135</td>\n",
       "      <td>4629</td>\n",
       "      <td>4644</td>\n",
       "    </tr>\n",
       "    <tr>\n",
       "      <th>7</th>\n",
       "      <td>2019-08-08</td>\n",
       "      <td>727219</td>\n",
       "      <td>144</td>\n",
       "      <td>1059795</td>\n",
       "      <td>157</td>\n",
       "      <td>5239</td>\n",
       "      <td>5298</td>\n",
       "    </tr>\n",
       "    <tr>\n",
       "      <th>8</th>\n",
       "      <td>2019-08-09</td>\n",
       "      <td>861456</td>\n",
       "      <td>155</td>\n",
       "      <td>1162961</td>\n",
       "      <td>176</td>\n",
       "      <td>5856</td>\n",
       "      <td>5908</td>\n",
       "    </tr>\n",
       "    <tr>\n",
       "      <th>9</th>\n",
       "      <td>2019-08-10</td>\n",
       "      <td>1013731</td>\n",
       "      <td>170</td>\n",
       "      <td>1268123</td>\n",
       "      <td>198</td>\n",
       "      <td>6262</td>\n",
       "      <td>6277</td>\n",
       "    </tr>\n",
       "  </tbody>\n",
       "</table>\n",
       "</div>"
      ],
      "text/plain": [
       "        date  revenueA  ordersA  revenueB  ordersB  visitorsA  visitorsB\n",
       "0 2019-08-01    142779       23     59758       17        719        713\n",
       "1 2019-08-02    234381       42    221801       40       1338       1294\n",
       "2 2019-08-03    346854       66    288850       54       1845       1803\n",
       "3 2019-08-04    388030       77    385740       68       2562       2573\n",
       "4 2019-08-05    474413       99    475648       89       3318       3280\n",
       "5 2019-08-06    515332      114    690490      112       3985       3935\n",
       "6 2019-08-07    638580      130    909654      135       4629       4644\n",
       "7 2019-08-08    727219      144   1059795      157       5239       5298\n",
       "8 2019-08-09    861456      155   1162961      176       5856       5908\n",
       "9 2019-08-10   1013731      170   1268123      198       6262       6277"
      ]
     },
     "execution_count": 45,
     "metadata": {},
     "output_type": "execute_result"
    }
   ],
   "source": [
    "cumulativeData.head(10)"
   ]
  },
  {
   "cell_type": "code",
   "execution_count": 46,
   "id": "ebcc0473",
   "metadata": {},
   "outputs": [
    {
     "data": {
      "image/png": "[encoded data removed]",
      "text/plain": [
       "<Figure size 1200x600 with 1 Axes>"
      ]
     },
     "metadata": {},
     "output_type": "display_data"
    }
   ],
   "source": [
    "plt.plot(cumulativeData['date'], cumulativeData['ordersA'] / cumulativeData['visitorsA'] , label='A')\n",
    "plt.plot(cumulativeData['date'], cumulativeData['ordersB'] / cumulativeData['visitorsB'], label='B')\n",
    "plt.xlabel('Дата', color='gray')\n",
    "plt.ylabel('Среднее количество заказов на поситетеля', color='gray')\n",
    "plt.title('График кумулятивного среднего количества заказов на посетителя по группам')\n",
    "plt.legend()\n",
    "plt.show()"
   ]
  },
  {
   "cell_type": "markdown",
   "id": "4df5fac5",
   "metadata": {},
   "source": [
    "Среднее количество заказов на поситетеля у группы B выше,чем у группы А."
   ]
  },
  {
   "cell_type": "code",
   "execution_count": 47,
   "id": "b66fbdcb",
   "metadata": {},
   "outputs": [
    {
     "data": {
      "image/png": "[encoded data removed]",
      "text/plain": [
       "<Figure size 1200x600 with 1 Axes>"
      ]
     },
     "metadata": {},
     "output_type": "display_data"
    }
   ],
   "source": [
    "plt.plot(cumulativeData['date'],(cumulativeData['ordersB'] / cumulativeData['visitorsB']) / (cumulativeData['ordersA'] / cumulativeData['visitorsA']) - 1 , label='A')\n",
    "plt.xlabel('Дата', color='gray')\n",
    "plt.ylabel('Прирост кумулятивного среднего количества заказов на посетителя', color='gray')\n",
    "plt.title('График относительного изменения кумулятивного среднего количества заказов на посетителя группы B к группе A')\n",
    "plt.axhline(y=0, color='black', linestyle='--')\n",
    "plt.show()"
   ]
  },
  {
   "cell_type": "markdown",
   "id": "a44eb6de",
   "metadata": {},
   "source": [
    "В начале группа B проигрывала группе A, после вырвалась вперед. Потом среднее количество заказов на посетителя для группы B уменьшалось, но все еще остается выше, чем у группы А. "
   ]
  },
  {
   "cell_type": "code",
   "execution_count": 48,
   "id": "c362a331",
   "metadata": {},
   "outputs": [],
   "source": [
    "ordersByUsers = orders.groupby('visitorId')['transactionId'].agg('nunique').reset_index()"
   ]
  },
  {
   "cell_type": "code",
   "execution_count": 49,
   "id": "75c361a8",
   "metadata": {},
   "outputs": [],
   "source": [
    "ordersByUsers.columns = ['userId', 'orders']"
   ]
  },
  {
   "cell_type": "code",
   "execution_count": 50,
   "id": "fa06ce50",
   "metadata": {},
   "outputs": [
    {
     "data": {
      "text/html": [
       "<div>\n",
       "<style scoped>\n",
       "    .dataframe tbody tr th:only-of-type {\n",
       "        vertical-align: middle;\n",
       "    }\n",
       "\n",
       "    .dataframe tbody tr th {\n",
       "        vertical-align: top;\n",
       "    }\n",
       "\n",
       "    .dataframe thead th {\n",
       "        text-align: right;\n",
       "    }\n",
       "</style>\n",
       "<table border=\"1\" class=\"dataframe\">\n",
       "  <thead>\n",
       "    <tr style=\"text-align: right;\">\n",
       "      <th></th>\n",
       "      <th>userId</th>\n",
       "      <th>orders</th>\n",
       "    </tr>\n",
       "  </thead>\n",
       "  <tbody>\n",
       "    <tr>\n",
       "      <th>0</th>\n",
       "      <td>5114589</td>\n",
       "      <td>1</td>\n",
       "    </tr>\n",
       "    <tr>\n",
       "      <th>1</th>\n",
       "      <td>6958315</td>\n",
       "      <td>1</td>\n",
       "    </tr>\n",
       "    <tr>\n",
       "      <th>2</th>\n",
       "      <td>11685486</td>\n",
       "      <td>1</td>\n",
       "    </tr>\n",
       "    <tr>\n",
       "      <th>3</th>\n",
       "      <td>39475350</td>\n",
       "      <td>1</td>\n",
       "    </tr>\n",
       "    <tr>\n",
       "      <th>4</th>\n",
       "      <td>47206413</td>\n",
       "      <td>1</td>\n",
       "    </tr>\n",
       "  </tbody>\n",
       "</table>\n",
       "</div>"
      ],
      "text/plain": [
       "     userId  orders\n",
       "0   5114589       1\n",
       "1   6958315       1\n",
       "2  11685486       1\n",
       "3  39475350       1\n",
       "4  47206413       1"
      ]
     },
     "execution_count": 50,
     "metadata": {},
     "output_type": "execute_result"
    }
   ],
   "source": [
    "ordersByUsers.head()"
   ]
  },
  {
   "cell_type": "code",
   "execution_count": 51,
   "id": "c068a37d",
   "metadata": {},
   "outputs": [
    {
     "data": {
      "image/png": "[encoded data removed]",
      "text/plain": [
       "<Figure size 1200x600 with 1 Axes>"
      ]
     },
     "metadata": {},
     "output_type": "display_data"
    }
   ],
   "source": [
    "ordersByUsers['orders'].hist()\n",
    "plt.title('Гистограмма распределния количества заказов по пользователям')\n",
    "plt.xlabel('Количество заказов', color='gray')\n",
    "plt.ylabel('Количество пользователей', color='gray')\n",
    "plt.show()"
   ]
  },
  {
   "cell_type": "markdown",
   "id": "14621c22",
   "metadata": {},
   "source": [
    "Большинство покупателей заказывали только один раз. Однако доля пользователей с 2-4 заказами тоже значительна. "
   ]
  },
  {
   "cell_type": "code",
   "execution_count": 52,
   "id": "e30c55ec",
   "metadata": {},
   "outputs": [
    {
     "data": {
      "text/plain": [
       "0        0\n",
       "1        1\n",
       "2        2\n",
       "3        3\n",
       "4        4\n",
       "      ... \n",
       "968    968\n",
       "969    969\n",
       "970    970\n",
       "971    971\n",
       "972    972\n",
       "Length: 973, dtype: int64"
      ]
     },
     "execution_count": 52,
     "metadata": {},
     "output_type": "execute_result"
    }
   ],
   "source": [
    "pd.Series(range(0,len(ordersByUsers)))"
   ]
  },
  {
   "cell_type": "code",
   "execution_count": 53,
   "id": "f4bbe0cf",
   "metadata": {},
   "outputs": [
    {
     "data": {
      "image/png": "[encoded data removed]",
      "text/plain": [
       "<Figure size 1200x600 with 1 Axes>"
      ]
     },
     "metadata": {},
     "output_type": "display_data"
    }
   ],
   "source": [
    "plt.scatter(ordersByUsers.index, ordersByUsers['orders'])\n",
    "plt.title('Точечный график количества заказов по пользователям')\n",
    "plt.xlabel('Номер пользователя', color='gray')\n",
    "plt.ylabel('Количество заказов', color='gray')\n",
    "plt.show()"
   ]
  },
  {
   "cell_type": "markdown",
   "id": "405304d7",
   "metadata": {},
   "source": [
    "По графику видно наличие большого количества пользователей с 2 заказами, также есть выбросы с данными пользователей, которые заказывали больше 4 раз."
   ]
  },
  {
   "cell_type": "markdown",
   "id": "6d84ec7d",
   "metadata": {},
   "source": [
    "Посчитаем 95 и 99 перцентиль."
   ]
  },
  {
   "cell_type": "code",
   "execution_count": 54,
   "id": "c528e29e",
   "metadata": {},
   "outputs": [
    {
     "data": {
      "text/plain": [
       "array([1., 2.])"
      ]
     },
     "execution_count": 54,
     "metadata": {},
     "output_type": "execute_result"
    }
   ],
   "source": [
    "np.percentile(ordersByUsers['orders'], [95, 99])"
   ]
  },
  {
   "cell_type": "markdown",
   "id": "2a4375f9",
   "metadata": {},
   "source": [
    "Не более 5% пользователей оформляли больше 2 заказов. И 1% пользователей заказывали больше четырех раз. Возьмем 3 заказа, как границу для фильтра аномалий./"
   ]
  },
  {
   "cell_type": "markdown",
   "id": "82a7a60d",
   "metadata": {},
   "source": [
    "Проделаем аналогисную работу со стоимостью заказов."
   ]
  },
  {
   "cell_type": "code",
   "execution_count": 55,
   "id": "bf633c72",
   "metadata": {},
   "outputs": [
    {
     "data": {
      "image/png": "[encoded data removed]",
      "text/plain": [
       "<Figure size 1200x600 with 1 Axes>"
      ]
     },
     "metadata": {},
     "output_type": "display_data"
    }
   ],
   "source": [
    "plt.scatter(orders.index, orders['revenue'])\n",
    "plt.title('Точечный график стоимостей заказов')\n",
    "plt.xlabel('Номер заказа', color='gray')\n",
    "plt.ylabel('Стоимость заказа', color='gray')\n",
    "plt.show()"
   ]
  },
  {
   "cell_type": "markdown",
   "id": "ecbcd5aa",
   "metadata": {},
   "source": [
    "Основная масса заказов стоимостью ниже 20 000 рублей."
   ]
  },
  {
   "cell_type": "code",
   "execution_count": 56,
   "id": "b76fb6a1",
   "metadata": {},
   "outputs": [
    {
     "data": {
      "text/plain": [
       "array([26785., 53904.])"
      ]
     },
     "execution_count": 56,
     "metadata": {},
     "output_type": "execute_result"
    }
   ],
   "source": [
    "np.percentile(orders['revenue'], [95, 99])"
   ]
  },
  {
   "cell_type": "markdown",
   "id": "c78696a8",
   "metadata": {},
   "source": [
    "Не более 5% заказов дороже 28 000 рублей и не более 1% дороже 58 233 рублей. Возьмем сумму заказа в 30 000, как границу для фильтра аномалий."
   ]
  },
  {
   "cell_type": "markdown",
   "id": "9750ad84",
   "metadata": {},
   "source": [
    "Объединим исходные данные в общую таблицу с подсчитанными куммулятивными данными."
   ]
  },
  {
   "cell_type": "code",
   "execution_count": 57,
   "id": "0bc6a6f6",
   "metadata": {},
   "outputs": [],
   "source": [
    "data = cumulativeData.merge(orders.query('group == \"A\"').groupby('date')[['revenue', 'transactionId']].agg({'revenue':'sum', 'transactionId': 'nunique'}), on='date')"
   ]
  },
  {
   "cell_type": "code",
   "execution_count": 58,
   "id": "b7778aaf",
   "metadata": {},
   "outputs": [],
   "source": [
    "data = data.merge(orders.query('group == \"B\"').groupby('date')[['revenue', 'transactionId']].agg({'revenue':'sum', 'transactionId': 'nunique'}), on='date')"
   ]
  },
  {
   "cell_type": "code",
   "execution_count": 59,
   "id": "e885b22a",
   "metadata": {},
   "outputs": [],
   "source": [
    "data = data.merge(visitors.query('group == \"A\"').groupby('date')['visitors'].sum(), on='date')"
   ]
  },
  {
   "cell_type": "code",
   "execution_count": 60,
   "id": "29caacf3",
   "metadata": {},
   "outputs": [],
   "source": [
    "data = data.merge(visitors.query('group == \"B\"').groupby('date')['visitors'].sum(), on='date')"
   ]
  },
  {
   "cell_type": "code",
   "execution_count": 61,
   "id": "445259af",
   "metadata": {},
   "outputs": [
    {
     "data": {
      "text/html": [
       "<div>\n",
       "<style scoped>\n",
       "    .dataframe tbody tr th:only-of-type {\n",
       "        vertical-align: middle;\n",
       "    }\n",
       "\n",
       "    .dataframe tbody tr th {\n",
       "        vertical-align: top;\n",
       "    }\n",
       "\n",
       "    .dataframe thead th {\n",
       "        text-align: right;\n",
       "    }\n",
       "</style>\n",
       "<table border=\"1\" class=\"dataframe\">\n",
       "  <thead>\n",
       "    <tr style=\"text-align: right;\">\n",
       "      <th></th>\n",
       "      <th>date</th>\n",
       "      <th>revenueA</th>\n",
       "      <th>ordersA</th>\n",
       "      <th>revenueB</th>\n",
       "      <th>ordersB</th>\n",
       "      <th>visitorsA</th>\n",
       "      <th>visitorsB</th>\n",
       "      <th>revenue_x</th>\n",
       "      <th>transactionId_x</th>\n",
       "      <th>revenue_y</th>\n",
       "      <th>transactionId_y</th>\n",
       "      <th>visitors_x</th>\n",
       "      <th>visitors_y</th>\n",
       "    </tr>\n",
       "  </thead>\n",
       "  <tbody>\n",
       "    <tr>\n",
       "      <th>0</th>\n",
       "      <td>2019-08-01</td>\n",
       "      <td>142779</td>\n",
       "      <td>23</td>\n",
       "      <td>59758</td>\n",
       "      <td>17</td>\n",
       "      <td>719</td>\n",
       "      <td>713</td>\n",
       "      <td>142779</td>\n",
       "      <td>23</td>\n",
       "      <td>59758</td>\n",
       "      <td>17</td>\n",
       "      <td>719</td>\n",
       "      <td>713</td>\n",
       "    </tr>\n",
       "    <tr>\n",
       "      <th>1</th>\n",
       "      <td>2019-08-02</td>\n",
       "      <td>234381</td>\n",
       "      <td>42</td>\n",
       "      <td>221801</td>\n",
       "      <td>40</td>\n",
       "      <td>1338</td>\n",
       "      <td>1294</td>\n",
       "      <td>91602</td>\n",
       "      <td>19</td>\n",
       "      <td>162043</td>\n",
       "      <td>23</td>\n",
       "      <td>619</td>\n",
       "      <td>581</td>\n",
       "    </tr>\n",
       "    <tr>\n",
       "      <th>2</th>\n",
       "      <td>2019-08-03</td>\n",
       "      <td>346854</td>\n",
       "      <td>66</td>\n",
       "      <td>288850</td>\n",
       "      <td>54</td>\n",
       "      <td>1845</td>\n",
       "      <td>1803</td>\n",
       "      <td>112473</td>\n",
       "      <td>24</td>\n",
       "      <td>67049</td>\n",
       "      <td>14</td>\n",
       "      <td>507</td>\n",
       "      <td>509</td>\n",
       "    </tr>\n",
       "    <tr>\n",
       "      <th>3</th>\n",
       "      <td>2019-08-04</td>\n",
       "      <td>388030</td>\n",
       "      <td>77</td>\n",
       "      <td>385740</td>\n",
       "      <td>68</td>\n",
       "      <td>2562</td>\n",
       "      <td>2573</td>\n",
       "      <td>41176</td>\n",
       "      <td>11</td>\n",
       "      <td>96890</td>\n",
       "      <td>14</td>\n",
       "      <td>717</td>\n",
       "      <td>770</td>\n",
       "    </tr>\n",
       "    <tr>\n",
       "      <th>4</th>\n",
       "      <td>2019-08-05</td>\n",
       "      <td>474413</td>\n",
       "      <td>99</td>\n",
       "      <td>475648</td>\n",
       "      <td>89</td>\n",
       "      <td>3318</td>\n",
       "      <td>3280</td>\n",
       "      <td>86383</td>\n",
       "      <td>22</td>\n",
       "      <td>89908</td>\n",
       "      <td>21</td>\n",
       "      <td>756</td>\n",
       "      <td>707</td>\n",
       "    </tr>\n",
       "  </tbody>\n",
       "</table>\n",
       "</div>"
      ],
      "text/plain": [
       "        date  revenueA  ordersA  revenueB  ordersB  visitorsA  visitorsB  \\\n",
       "0 2019-08-01    142779       23     59758       17        719        713   \n",
       "1 2019-08-02    234381       42    221801       40       1338       1294   \n",
       "2 2019-08-03    346854       66    288850       54       1845       1803   \n",
       "3 2019-08-04    388030       77    385740       68       2562       2573   \n",
       "4 2019-08-05    474413       99    475648       89       3318       3280   \n",
       "\n",
       "   revenue_x  transactionId_x  revenue_y  transactionId_y  visitors_x  \\\n",
       "0     142779               23      59758               17         719   \n",
       "1      91602               19     162043               23         619   \n",
       "2     112473               24      67049               14         507   \n",
       "3      41176               11      96890               14         717   \n",
       "4      86383               22      89908               21         756   \n",
       "\n",
       "   visitors_y  \n",
       "0         713  \n",
       "1         581  \n",
       "2         509  \n",
       "3         770  \n",
       "4         707  "
      ]
     },
     "execution_count": 61,
     "metadata": {},
     "output_type": "execute_result"
    }
   ],
   "source": [
    "data.head()"
   ]
  },
  {
   "cell_type": "code",
   "execution_count": 62,
   "id": "ff2d8c16",
   "metadata": {},
   "outputs": [],
   "source": [
    "data.columns = ['date', 'revenueCummulativeA', 'ordersCummulativeA', 'revenueCummulativeB', 'ordersCummulativeB', 'visitorsCummulativeA', 'visitorsCummulativeB', 'revenuePerDateA', 'ordersPerDateA', 'revenuePerDateB', 'ordersPerDateB', 'visitorsPerDateA', 'visitorsPerDateB']"
   ]
  },
  {
   "cell_type": "code",
   "execution_count": 63,
   "id": "9c0b88c8",
   "metadata": {},
   "outputs": [
    {
     "data": {
      "text/html": [
       "<div>\n",
       "<style scoped>\n",
       "    .dataframe tbody tr th:only-of-type {\n",
       "        vertical-align: middle;\n",
       "    }\n",
       "\n",
       "    .dataframe tbody tr th {\n",
       "        vertical-align: top;\n",
       "    }\n",
       "\n",
       "    .dataframe thead th {\n",
       "        text-align: right;\n",
       "    }\n",
       "</style>\n",
       "<table border=\"1\" class=\"dataframe\">\n",
       "  <thead>\n",
       "    <tr style=\"text-align: right;\">\n",
       "      <th></th>\n",
       "      <th>date</th>\n",
       "      <th>revenueCummulativeA</th>\n",
       "      <th>ordersCummulativeA</th>\n",
       "      <th>revenueCummulativeB</th>\n",
       "      <th>ordersCummulativeB</th>\n",
       "      <th>visitorsCummulativeA</th>\n",
       "      <th>visitorsCummulativeB</th>\n",
       "      <th>revenuePerDateA</th>\n",
       "      <th>ordersPerDateA</th>\n",
       "      <th>revenuePerDateB</th>\n",
       "      <th>ordersPerDateB</th>\n",
       "      <th>visitorsPerDateA</th>\n",
       "      <th>visitorsPerDateB</th>\n",
       "    </tr>\n",
       "  </thead>\n",
       "  <tbody>\n",
       "    <tr>\n",
       "      <th>0</th>\n",
       "      <td>2019-08-01</td>\n",
       "      <td>142779</td>\n",
       "      <td>23</td>\n",
       "      <td>59758</td>\n",
       "      <td>17</td>\n",
       "      <td>719</td>\n",
       "      <td>713</td>\n",
       "      <td>142779</td>\n",
       "      <td>23</td>\n",
       "      <td>59758</td>\n",
       "      <td>17</td>\n",
       "      <td>719</td>\n",
       "      <td>713</td>\n",
       "    </tr>\n",
       "    <tr>\n",
       "      <th>1</th>\n",
       "      <td>2019-08-02</td>\n",
       "      <td>234381</td>\n",
       "      <td>42</td>\n",
       "      <td>221801</td>\n",
       "      <td>40</td>\n",
       "      <td>1338</td>\n",
       "      <td>1294</td>\n",
       "      <td>91602</td>\n",
       "      <td>19</td>\n",
       "      <td>162043</td>\n",
       "      <td>23</td>\n",
       "      <td>619</td>\n",
       "      <td>581</td>\n",
       "    </tr>\n",
       "    <tr>\n",
       "      <th>2</th>\n",
       "      <td>2019-08-03</td>\n",
       "      <td>346854</td>\n",
       "      <td>66</td>\n",
       "      <td>288850</td>\n",
       "      <td>54</td>\n",
       "      <td>1845</td>\n",
       "      <td>1803</td>\n",
       "      <td>112473</td>\n",
       "      <td>24</td>\n",
       "      <td>67049</td>\n",
       "      <td>14</td>\n",
       "      <td>507</td>\n",
       "      <td>509</td>\n",
       "    </tr>\n",
       "    <tr>\n",
       "      <th>3</th>\n",
       "      <td>2019-08-04</td>\n",
       "      <td>388030</td>\n",
       "      <td>77</td>\n",
       "      <td>385740</td>\n",
       "      <td>68</td>\n",
       "      <td>2562</td>\n",
       "      <td>2573</td>\n",
       "      <td>41176</td>\n",
       "      <td>11</td>\n",
       "      <td>96890</td>\n",
       "      <td>14</td>\n",
       "      <td>717</td>\n",
       "      <td>770</td>\n",
       "    </tr>\n",
       "    <tr>\n",
       "      <th>4</th>\n",
       "      <td>2019-08-05</td>\n",
       "      <td>474413</td>\n",
       "      <td>99</td>\n",
       "      <td>475648</td>\n",
       "      <td>89</td>\n",
       "      <td>3318</td>\n",
       "      <td>3280</td>\n",
       "      <td>86383</td>\n",
       "      <td>22</td>\n",
       "      <td>89908</td>\n",
       "      <td>21</td>\n",
       "      <td>756</td>\n",
       "      <td>707</td>\n",
       "    </tr>\n",
       "  </tbody>\n",
       "</table>\n",
       "</div>"
      ],
      "text/plain": [
       "        date  revenueCummulativeA  ordersCummulativeA  revenueCummulativeB  \\\n",
       "0 2019-08-01               142779                  23                59758   \n",
       "1 2019-08-02               234381                  42               221801   \n",
       "2 2019-08-03               346854                  66               288850   \n",
       "3 2019-08-04               388030                  77               385740   \n",
       "4 2019-08-05               474413                  99               475648   \n",
       "\n",
       "   ordersCummulativeB  visitorsCummulativeA  visitorsCummulativeB  \\\n",
       "0                  17                   719                   713   \n",
       "1                  40                  1338                  1294   \n",
       "2                  54                  1845                  1803   \n",
       "3                  68                  2562                  2573   \n",
       "4                  89                  3318                  3280   \n",
       "\n",
       "   revenuePerDateA  ordersPerDateA  revenuePerDateB  ordersPerDateB  \\\n",
       "0           142779              23            59758              17   \n",
       "1            91602              19           162043              23   \n",
       "2           112473              24            67049              14   \n",
       "3            41176              11            96890              14   \n",
       "4            86383              22            89908              21   \n",
       "\n",
       "   visitorsPerDateA  visitorsPerDateB  \n",
       "0               719               713  \n",
       "1               619               581  \n",
       "2               507               509  \n",
       "3               717               770  \n",
       "4               756               707  "
      ]
     },
     "execution_count": 63,
     "metadata": {},
     "output_type": "execute_result"
    }
   ],
   "source": [
    "data.head()"
   ]
  },
  {
   "cell_type": "code",
   "execution_count": 64,
   "id": "bf982755",
   "metadata": {},
   "outputs": [],
   "source": [
    "ordersByUsersA = (\n",
    "    orders[orders['group'] == 'A']\n",
    "    .groupby('visitorId', as_index=False)\n",
    "    .agg({'transactionId': 'nunique'})\n",
    ")"
   ]
  },
  {
   "cell_type": "code",
   "execution_count": 65,
   "id": "3c52a82e",
   "metadata": {},
   "outputs": [],
   "source": [
    "ordersByUsersA.columns = ['userId', 'orders']"
   ]
  },
  {
   "cell_type": "code",
   "execution_count": 66,
   "id": "9f895441",
   "metadata": {},
   "outputs": [],
   "source": [
    "ordersByUsersB = (\n",
    "    orders[orders['group'] == 'B']\n",
    "    .groupby('visitorId', as_index=False)\n",
    "    .agg({'transactionId': 'nunique'})\n",
    ")"
   ]
  },
  {
   "cell_type": "code",
   "execution_count": 67,
   "id": "cdd5b704",
   "metadata": {},
   "outputs": [],
   "source": [
    "ordersByUsersB.columns = ['userId', 'orders'] "
   ]
  },
  {
   "cell_type": "markdown",
   "id": "8ac9afc9",
   "metadata": {},
   "source": [
    "Объявим переменные sampleA и sampleB, в которых пользователям из разных групп будет соответствовать количество заказов. "
   ]
  },
  {
   "cell_type": "code",
   "execution_count": 68,
   "id": "3c03053b",
   "metadata": {},
   "outputs": [],
   "source": [
    "sampleA = pd.concat([ordersByUsersA['orders'], pd.Series(0, index=np.arange(data['visitorsPerDateA'].sum() - len(ordersByUsersA['orders'])), name='orders')],axis=0)"
   ]
  },
  {
   "cell_type": "code",
   "execution_count": 69,
   "id": "a651b450",
   "metadata": {},
   "outputs": [],
   "source": [
    "sampleB = pd.concat([ordersByUsersB['orders'], pd.Series(0, index=np.arange(data['visitorsPerDateB'].sum() - len(ordersByUsersB['orders'])), name='orders')],axis=0)"
   ]
  },
  {
   "cell_type": "markdown",
   "id": "8d5e7cc2",
   "metadata": {},
   "source": [
    "Рассмотрим гипотезы"
   ]
  },
  {
   "cell_type": "markdown",
   "id": "4c30ef17",
   "metadata": {},
   "source": [
    "H0 - Нет различий в среднем числе заказов на поситетеля между группами.\n",
    "<br> H1 - Есть различия в среднем числе заказов на поситетеля между группами."
   ]
  },
  {
   "cell_type": "markdown",
   "id": "8df5f8df",
   "metadata": {},
   "source": [
    "Проверять гипотезы будем с помощью непараметрического теста Уилкоксона-Манна-Уитни. Выбираем его, так как в данных есть существенные выбросы."
   ]
  },
  {
   "cell_type": "code",
   "execution_count": 70,
   "id": "323f6429",
   "metadata": {},
   "outputs": [
    {
     "name": "stdout",
     "output_type": "stream",
     "text": [
      "p-value: 0.011\n"
     ]
    }
   ],
   "source": [
    "print('p-value: ' \"{0:.3f}\".format(st.mannwhitneyu(sampleA, sampleB)[1]))"
   ]
  },
  {
   "cell_type": "code",
   "execution_count": 71,
   "id": "417913da",
   "metadata": {},
   "outputs": [
    {
     "name": "stdout",
     "output_type": "stream",
     "text": [
      "Нулевую гипотезу отвергаем\n"
     ]
    }
   ],
   "source": [
    "if st.mannwhitneyu(sampleA, sampleB)[1] > 0.05:\n",
    "    print(\"Не отвергаем нулевую гипотезу\")\n",
    "else: print(\"Нулевую гипотезу отвергаем\")"
   ]
  },
  {
   "cell_type": "code",
   "execution_count": 72,
   "id": "afb0499f",
   "metadata": {},
   "outputs": [
    {
     "name": "stdout",
     "output_type": "stream",
     "text": [
      "Относительная разница между сравниваемыми величинами: 0.160\n"
     ]
    }
   ],
   "source": [
    "print('Относительная разница между сравниваемыми величинами: '\"{0:.3f}\".format(sampleB.mean() / sampleA.mean() - 1))"
   ]
  },
  {
   "cell_type": "markdown",
   "id": "685036af",
   "metadata": {},
   "source": [
    "Различия в среднем числе заказов на поситетеля между группами есть. Выигрыш группы B составляет 13.8%"
   ]
  },
  {
   "cell_type": "markdown",
   "id": "18bf92d0",
   "metadata": {},
   "source": [
    "H0 - Нет различий в среднем чеке между группами.\n",
    "<br> H1 - Есть различия в среднем чеке между группами."
   ]
  },
  {
   "cell_type": "code",
   "execution_count": 73,
   "id": "5bafdd71",
   "metadata": {},
   "outputs": [
    {
     "name": "stdout",
     "output_type": "stream",
     "text": [
      "Не отвергаем нулевую гипотезу\n"
     ]
    }
   ],
   "source": [
    "if st.mannwhitneyu(orders[orders['group']=='A']['revenue'], orders[orders['group']=='B']['revenue'])[1] > 0.05:\n",
    "    print(\"Не отвергаем нулевую гипотезу\")\n",
    "else: print(\"Нулевую гипотезу отвергаем\")"
   ]
  },
  {
   "cell_type": "code",
   "execution_count": 74,
   "id": "f5ef76e1",
   "metadata": {},
   "outputs": [
    {
     "name": "stdout",
     "output_type": "stream",
     "text": [
      "Относительная разница между сравниваемыми величинами: 0.287\n"
     ]
    }
   ],
   "source": [
    "print('Относительная разница между сравниваемыми величинами: ' '{0:.3f}'.format(orders[orders['group']=='B']['revenue'].mean()/orders[orders['group']=='A']['revenue'].mean()-1))"
   ]
  },
  {
   "cell_type": "code",
   "execution_count": 75,
   "id": "b2339a0c",
   "metadata": {},
   "outputs": [
    {
     "name": "stdout",
     "output_type": "stream",
     "text": [
      "p-value: 0.829\n"
     ]
    }
   ],
   "source": [
    "print('p-value: ''{0:.3f}'.format(st.mannwhitneyu(orders[orders['group']=='A']['revenue'], orders[orders['group']=='B']['revenue'])[1]))"
   ]
  },
  {
   "cell_type": "markdown",
   "id": "90804add",
   "metadata": {},
   "source": [
    "Нулевая гипотеза не отвергнута, значит оснований считать, что есть различия в среднем чеке нет. Средний чек группы B выше группы А."
   ]
  },
  {
   "cell_type": "markdown",
   "id": "2a5c97fc",
   "metadata": {},
   "source": [
    "Примем за аномальных пользователей тех, кто совершил больше двух заказов или совершил заказ дороже 30 000 рублей. "
   ]
  },
  {
   "cell_type": "code",
   "execution_count": 76,
   "id": "52b93b47",
   "metadata": {},
   "outputs": [],
   "source": [
    "usersWithManyOrders = pd.concat(\n",
    "    [\n",
    "        ordersByUsersA[ordersByUsersA['orders'] > 2]['userId'],\n",
    "        ordersByUsersB[ordersByUsersB['orders'] > 2]['userId'],\n",
    "    ],\n",
    "    axis=0,\n",
    ")"
   ]
  },
  {
   "cell_type": "code",
   "execution_count": 77,
   "id": "5b7aa6dd",
   "metadata": {},
   "outputs": [],
   "source": [
    "usersWithExpensiveOrders = orders[orders['revenue'] > 30000]['visitorId']"
   ]
  },
  {
   "cell_type": "code",
   "execution_count": 78,
   "id": "bf049165",
   "metadata": {},
   "outputs": [],
   "source": [
    "abnormalUsers = (\n",
    "    pd.concat([usersWithManyOrders, usersWithExpensiveOrders], axis=0)\n",
    "    .drop_duplicates()\n",
    "    .sort_values()\n",
    ")"
   ]
  },
  {
   "cell_type": "markdown",
   "id": "8c3c9fbf",
   "metadata": {},
   "source": [
    "Аболютные потери группы А - количество аномальных пользователей с числом закзаов большим двух в группе А."
   ]
  },
  {
   "cell_type": "code",
   "execution_count": 79,
   "id": "42538ce8",
   "metadata": {},
   "outputs": [
    {
     "data": {
      "text/plain": [
       "5"
      ]
     },
     "execution_count": 79,
     "metadata": {},
     "output_type": "execute_result"
    }
   ],
   "source": [
    "ordersByUsersA[ordersByUsersA['orders'] > 2]['userId'].count()"
   ]
  },
  {
   "cell_type": "markdown",
   "id": "708ec6ba",
   "metadata": {},
   "source": [
    "Аболютные потери группы B - количество аномальных пользователей с числом закзаов большим двух в группе B"
   ]
  },
  {
   "cell_type": "code",
   "execution_count": 80,
   "id": "dc9a1e18",
   "metadata": {},
   "outputs": [
    {
     "data": {
      "text/plain": [
       "2"
      ]
     },
     "execution_count": 80,
     "metadata": {},
     "output_type": "execute_result"
    }
   ],
   "source": [
    "ordersByUsersB[ordersByUsersB['orders'] > 2]['userId'].count()"
   ]
  },
  {
   "cell_type": "markdown",
   "id": "1ff9bd01",
   "metadata": {},
   "source": [
    "Относительные потери группы А"
   ]
  },
  {
   "cell_type": "code",
   "execution_count": 81,
   "id": "bfccffe5",
   "metadata": {},
   "outputs": [
    {
     "data": {
      "text/plain": [
       "0.01"
      ]
     },
     "execution_count": 81,
     "metadata": {},
     "output_type": "execute_result"
    }
   ],
   "source": [
    "np.round(ordersByUsersA[ordersByUsersA['orders'] > 2]['userId'].count() / orders.query('group == \"A\"')['visitorId'].nunique(), 2)"
   ]
  },
  {
   "cell_type": "markdown",
   "id": "4e3e9303",
   "metadata": {},
   "source": [
    "Относительные потери группы B"
   ]
  },
  {
   "cell_type": "code",
   "execution_count": 82,
   "id": "b8124e7f",
   "metadata": {},
   "outputs": [
    {
     "data": {
      "text/plain": [
       "0.0"
      ]
     },
     "execution_count": 82,
     "metadata": {},
     "output_type": "execute_result"
    }
   ],
   "source": [
    "np.round(ordersByUsersB[ordersByUsersB['orders'] > 2]['userId'].count() / orders.query('group == \"B\"')['visitorId'].nunique(), 2)"
   ]
  },
  {
   "cell_type": "markdown",
   "id": "037b667f",
   "metadata": {},
   "source": [
    "Аболютные потери  - количество аномальных пользователей с суммой заказа большей 30000."
   ]
  },
  {
   "cell_type": "code",
   "execution_count": 83,
   "id": "1d03402c",
   "metadata": {},
   "outputs": [
    {
     "data": {
      "text/plain": [
       "42"
      ]
     },
     "execution_count": 83,
     "metadata": {},
     "output_type": "execute_result"
    }
   ],
   "source": [
    "orders[orders['revenue'] > 30000]['visitorId'].nunique()"
   ]
  },
  {
   "cell_type": "markdown",
   "id": "36387d3c",
   "metadata": {},
   "source": [
    "Относительные потери"
   ]
  },
  {
   "cell_type": "code",
   "execution_count": 84,
   "id": "87cbe103",
   "metadata": {
    "scrolled": true
   },
   "outputs": [
    {
     "data": {
      "text/plain": [
       "0.04"
      ]
     },
     "execution_count": 84,
     "metadata": {},
     "output_type": "execute_result"
    }
   ],
   "source": [
    "np.round(orders[orders['revenue'] > 30000]['visitorId'].nunique() / orders['visitorId'].nunique(), 2)"
   ]
  },
  {
   "cell_type": "markdown",
   "id": "eddf64ce",
   "metadata": {},
   "source": [
    "Все потери составляют не более 5%"
   ]
  },
  {
   "cell_type": "code",
   "execution_count": 85,
   "id": "7b307da8",
   "metadata": {},
   "outputs": [],
   "source": [
    "sampleAFiltered = pd.concat(\n",
    "    [\n",
    "        ordersByUsersA[\n",
    "            np.logical_not(ordersByUsersA['userId'].isin(abnormalUsers))\n",
    "        ]['orders'],\n",
    "        pd.Series(\n",
    "            0,\n",
    "            index=np.arange(\n",
    "                data['visitorsPerDateA'].sum() - len(ordersByUsersA['orders'])\n",
    "            ),\n",
    "            name='orders',\n",
    "        ),\n",
    "    ],\n",
    "    axis=0,\n",
    ")"
   ]
  },
  {
   "cell_type": "code",
   "execution_count": 86,
   "id": "a53bf69f",
   "metadata": {},
   "outputs": [],
   "source": [
    "sampleBFiltered = pd.concat(\n",
    "    [\n",
    "        ordersByUsersB[\n",
    "            np.logical_not(ordersByUsersB['userId'].isin(abnormalUsers))\n",
    "        ]['orders'],\n",
    "        pd.Series(\n",
    "            0,\n",
    "            index=np.arange(\n",
    "                data['visitorsPerDateB'].sum() - len(ordersByUsersB['orders'])\n",
    "            ),\n",
    "            name='orders',\n",
    "        ),\n",
    "    ],\n",
    "    axis=0,\n",
    ") "
   ]
  },
  {
   "cell_type": "markdown",
   "id": "927ebbc2",
   "metadata": {},
   "source": [
    "H0 - Нет различий в среднем числе заказов на пользовтаеля между группами.\n",
    "<br> H1 - Есть различия в среднем числе заказов на пользовтаеля между группами."
   ]
  },
  {
   "cell_type": "code",
   "execution_count": 87,
   "id": "772ed726",
   "metadata": {},
   "outputs": [
    {
     "name": "stdout",
     "output_type": "stream",
     "text": [
      "p-value: 0.010\n"
     ]
    }
   ],
   "source": [
    "print('p-value: ''{0:.3f}'.format(st.mannwhitneyu(sampleAFiltered, sampleBFiltered)[1]))"
   ]
  },
  {
   "cell_type": "code",
   "execution_count": 88,
   "id": "fd8290ae",
   "metadata": {},
   "outputs": [
    {
     "name": "stdout",
     "output_type": "stream",
     "text": [
      "Относительная разница между сравниваемыми величинами: 0.187\n"
     ]
    }
   ],
   "source": [
    "print('Относительная разница между сравниваемыми величинами:', '{0:.3f}'.format(sampleBFiltered.mean()/sampleAFiltered.mean()-1))"
   ]
  },
  {
   "cell_type": "code",
   "execution_count": 89,
   "id": "6a58b5d1",
   "metadata": {},
   "outputs": [
    {
     "name": "stdout",
     "output_type": "stream",
     "text": [
      "Нулевую гипотезу отвергаем\n"
     ]
    }
   ],
   "source": [
    "if st.mannwhitneyu(sampleAFiltered, sampleBFiltered)[1] > 0.05:\n",
    "    print(\"Не отвергаем нулевую гипотезу\")\n",
    "else: print(\"Нулевую гипотезу отвергаем\")"
   ]
  },
  {
   "cell_type": "markdown",
   "id": "173f23f4",
   "metadata": {},
   "source": [
    "Результаты по среднему количеству заказов на пользователя практически не изменились."
   ]
  },
  {
   "cell_type": "markdown",
   "id": "1c21e906",
   "metadata": {},
   "source": [
    "H0 - Нет различий в среднем чеке между группами.\n",
    "<br> H1 - Есть различия в среднем чеке между группами."
   ]
  },
  {
   "cell_type": "code",
   "execution_count": 90,
   "id": "d811c763",
   "metadata": {},
   "outputs": [
    {
     "name": "stdout",
     "output_type": "stream",
     "text": [
      "p-value: 0.741\n"
     ]
    }
   ],
   "source": [
    "print('p-value: ''{0:.3f}'.format(\n",
    "        st.mannwhitneyu(\n",
    "            orders[\n",
    "                np.logical_and(\n",
    "                    orders['group'] == 'A',\n",
    "                    np.logical_not(orders['visitorId'].isin(abnormalUsers)),\n",
    "                )\n",
    "            ]['revenue'],\n",
    "            orders[\n",
    "                np.logical_and(\n",
    "                    orders['group'] == 'B',\n",
    "                    np.logical_not(orders['visitorId'].isin(abnormalUsers)),\n",
    "                )\n",
    "            ]['revenue'],\n",
    "        )[1]\n",
    "    ))"
   ]
  },
  {
   "cell_type": "code",
   "execution_count": 91,
   "id": "9d2da1ba",
   "metadata": {},
   "outputs": [
    {
     "name": "stdout",
     "output_type": "stream",
     "text": [
      "Относительная разница между сравниваемыми величинами: -0.027\n"
     ]
    }
   ],
   "source": [
    "print('Относительная разница между сравниваемыми величинами: ' '{0:.3f}'.format(\n",
    "        orders[\n",
    "            np.logical_and(\n",
    "                orders['group'] == 'B',\n",
    "                np.logical_not(orders['visitorId'].isin(abnormalUsers)),\n",
    "            )\n",
    "        ]['revenue'].mean()\n",
    "        / orders[\n",
    "            np.logical_and(\n",
    "                orders['group'] == 'A',\n",
    "                np.logical_not(orders['visitorId'].isin(abnormalUsers)),\n",
    "            )\n",
    "        ]['revenue'].mean()\n",
    "        - 1\n",
    "    ))"
   ]
  },
  {
   "cell_type": "code",
   "execution_count": 92,
   "id": "5d53b09a",
   "metadata": {},
   "outputs": [
    {
     "name": "stdout",
     "output_type": "stream",
     "text": [
      "Не отвергаем нулевую гипотезу\n"
     ]
    }
   ],
   "source": [
    "if st.mannwhitneyu(\n",
    "            orders[\n",
    "                np.logical_and(\n",
    "                    orders['group'] == 'A',\n",
    "                    np.logical_not(orders['visitorId'].isin(abnormalUsers)),\n",
    "                )\n",
    "            ]['revenue'],\n",
    "            orders[\n",
    "                np.logical_and(\n",
    "                    orders['group'] == 'B',\n",
    "                    np.logical_not(orders['visitorId'].isin(abnormalUsers)),\n",
    "                )\n",
    "            ]['revenue'],\n",
    "        )[1] > 0.05:\n",
    "    print(\"Не отвергаем нулевую гипотезу\")\n",
    "else: print(\"Нулевую гипотезу отвергаем\")"
   ]
  },
  {
   "cell_type": "markdown",
   "id": "a5519747",
   "metadata": {},
   "source": [
    "P-value практически не изменился, разница в среднем чеке группы В и группы А сократилась, средний чек группы В теперь чуть ниже группы А."
   ]
  },
  {
   "cell_type": "markdown",
   "id": "d2e2f5bd",
   "metadata": {},
   "source": [
    "Подведем итог:\n",
    "- Есть статистически значимое различие в среднем числе заказов между группами по сырым данным, так и после фильтрации аномалий, однако группа B выигрывает груупу А.\n",
    "- По сырым данным нет статистически значимого различия по среднему чеку между группами, после удаления аномалий статистически значимое различия также нет. При этом группа B уже проигрывает группе А.\n",
    "- График различия среднего количества заказов на посетителя между группами сообщает, что результаты группы B лучше группы A: зафиксировались около среднего значения.\n",
    "- График различия среднего чека колеблется, однако группа B в основном выиграет группу А."
   ]
  },
  {
   "cell_type": "markdown",
   "id": "7cf0c553",
   "metadata": {},
   "source": [
    "По итогу тестирования можно остановить тест, признать победу группы В."
   ]
  }
 ],
 "metadata": {
  "ExecuteTimeLog": [
   {
    "duration": 1281,
    "start_time": "2024-05-11T10:50:59.437Z"
   },
   {
    "duration": 251,
    "start_time": "2024-05-11T10:51:01.398Z"
   },
   {
    "duration": 11,
    "start_time": "2024-05-11T10:51:01.694Z"
   },
   {
    "duration": 3,
    "start_time": "2024-05-11T10:51:01.757Z"
   },
   {
    "duration": 26,
    "start_time": "2024-05-11T10:51:01.781Z"
   },
   {
    "duration": 43,
    "start_time": "2024-05-11T10:51:01.818Z"
   },
   {
    "duration": 5,
    "start_time": "2024-05-11T10:51:01.916Z"
   },
   {
    "duration": 9,
    "start_time": "2024-05-11T10:51:01.951Z"
   },
   {
    "duration": 4,
    "start_time": "2024-05-11T10:51:02.015Z"
   },
   {
    "duration": 10,
    "start_time": "2024-05-11T10:51:02.053Z"
   },
   {
    "duration": 12,
    "start_time": "2024-05-11T10:51:02.154Z"
   },
   {
    "duration": 10,
    "start_time": "2024-05-11T10:51:02.186Z"
   },
   {
    "duration": 9,
    "start_time": "2024-05-11T10:51:02.256Z"
   },
   {
    "duration": 9,
    "start_time": "2024-05-11T10:51:02.292Z"
   },
   {
    "duration": 4,
    "start_time": "2024-05-11T10:51:02.355Z"
   },
   {
    "duration": 10,
    "start_time": "2024-05-11T10:51:02.421Z"
   },
   {
    "duration": 10,
    "start_time": "2024-05-11T10:51:02.461Z"
   },
   {
    "duration": 9,
    "start_time": "2024-05-11T10:51:02.489Z"
   },
   {
    "duration": 291,
    "start_time": "2024-05-11T10:51:02.521Z"
   },
   {
    "duration": 255,
    "start_time": "2024-05-11T10:51:02.813Z"
   },
   {
    "duration": 5,
    "start_time": "2024-05-11T10:51:03.070Z"
   },
   {
    "duration": 5,
    "start_time": "2024-05-11T10:51:03.077Z"
   },
   {
    "duration": 19,
    "start_time": "2024-05-11T10:51:03.083Z"
   },
   {
    "duration": 313,
    "start_time": "2024-05-11T10:51:03.105Z"
   },
   {
    "duration": 3,
    "start_time": "2024-05-11T10:51:03.420Z"
   },
   {
    "duration": 19,
    "start_time": "2024-05-11T10:51:03.425Z"
   },
   {
    "duration": 16,
    "start_time": "2024-05-11T10:51:03.446Z"
   },
   {
    "duration": 19,
    "start_time": "2024-05-11T10:51:03.465Z"
   },
   {
    "duration": 8,
    "start_time": "2024-05-11T10:51:03.485Z"
   },
   {
    "duration": 13,
    "start_time": "2024-05-11T10:51:03.495Z"
   },
   {
    "duration": 10,
    "start_time": "2024-05-11T10:51:03.510Z"
   },
   {
    "duration": 224,
    "start_time": "2024-05-11T10:51:03.522Z"
   },
   {
    "duration": 337,
    "start_time": "2024-05-11T10:51:03.756Z"
   },
   {
    "duration": 6,
    "start_time": "2024-05-11T10:51:04.095Z"
   },
   {
    "duration": 13,
    "start_time": "2024-05-11T10:51:04.102Z"
   },
   {
    "duration": 16,
    "start_time": "2024-05-11T10:51:04.117Z"
   },
   {
    "duration": 157,
    "start_time": "2024-05-11T10:51:04.135Z"
   },
   {
    "duration": 6,
    "start_time": "2024-05-11T10:51:04.294Z"
   },
   {
    "duration": 167,
    "start_time": "2024-05-11T10:51:04.303Z"
   },
   {
    "duration": 5,
    "start_time": "2024-05-11T10:51:04.471Z"
   },
   {
    "duration": 168,
    "start_time": "2024-05-11T10:51:04.477Z"
   },
   {
    "duration": 12,
    "start_time": "2024-05-11T10:51:04.647Z"
   },
   {
    "duration": 12,
    "start_time": "2024-05-11T10:51:04.660Z"
   },
   {
    "duration": 11,
    "start_time": "2024-05-11T10:51:04.674Z"
   },
   {
    "duration": 17,
    "start_time": "2024-05-11T10:51:04.686Z"
   },
   {
    "duration": 15,
    "start_time": "2024-05-11T10:51:04.705Z"
   },
   {
    "duration": 249,
    "start_time": "2024-05-11T10:51:04.721Z"
   },
   {
    "duration": 0,
    "start_time": "2024-05-11T10:51:04.972Z"
   },
   {
    "duration": 0,
    "start_time": "2024-05-11T10:51:04.973Z"
   },
   {
    "duration": 0,
    "start_time": "2024-05-11T10:51:04.974Z"
   },
   {
    "duration": 0,
    "start_time": "2024-05-11T10:51:04.975Z"
   },
   {
    "duration": 1,
    "start_time": "2024-05-11T10:51:04.976Z"
   },
   {
    "duration": 0,
    "start_time": "2024-05-11T10:51:04.978Z"
   },
   {
    "duration": 0,
    "start_time": "2024-05-11T10:51:04.979Z"
   },
   {
    "duration": 0,
    "start_time": "2024-05-11T10:51:04.980Z"
   },
   {
    "duration": 0,
    "start_time": "2024-05-11T10:51:04.981Z"
   },
   {
    "duration": 0,
    "start_time": "2024-05-11T10:51:04.982Z"
   },
   {
    "duration": 0,
    "start_time": "2024-05-11T10:51:04.983Z"
   },
   {
    "duration": 0,
    "start_time": "2024-05-11T10:51:04.984Z"
   },
   {
    "duration": 0,
    "start_time": "2024-05-11T10:51:04.985Z"
   },
   {
    "duration": 0,
    "start_time": "2024-05-11T10:51:04.986Z"
   },
   {
    "duration": 0,
    "start_time": "2024-05-11T10:51:04.987Z"
   },
   {
    "duration": 0,
    "start_time": "2024-05-11T10:51:04.988Z"
   },
   {
    "duration": 0,
    "start_time": "2024-05-11T10:51:04.989Z"
   },
   {
    "duration": 0,
    "start_time": "2024-05-11T10:51:04.990Z"
   },
   {
    "duration": 0,
    "start_time": "2024-05-11T10:51:04.991Z"
   },
   {
    "duration": 0,
    "start_time": "2024-05-11T10:51:04.992Z"
   },
   {
    "duration": 9,
    "start_time": "2024-05-11T10:51:04.995Z"
   },
   {
    "duration": 9,
    "start_time": "2024-05-11T10:51:05.089Z"
   },
   {
    "duration": 9,
    "start_time": "2024-05-11T10:51:05.121Z"
   },
   {
    "duration": 9,
    "start_time": "2024-05-11T10:51:05.173Z"
   },
   {
    "duration": 46,
    "start_time": "2024-05-11T10:51:05.255Z"
   },
   {
    "duration": 11,
    "start_time": "2024-05-11T10:51:49.614Z"
   },
   {
    "duration": 12,
    "start_time": "2024-05-11T10:51:50.061Z"
   },
   {
    "duration": 8,
    "start_time": "2024-05-11T10:51:50.499Z"
   },
   {
    "duration": 8,
    "start_time": "2024-05-11T10:51:50.932Z"
   },
   {
    "duration": 153,
    "start_time": "2024-05-11T10:51:51.462Z"
   },
   {
    "duration": 14,
    "start_time": "2024-05-11T10:52:12.557Z"
   },
   {
    "duration": 4,
    "start_time": "2024-05-11T10:53:01.683Z"
   },
   {
    "duration": 10,
    "start_time": "2024-05-11T10:53:03.069Z"
   },
   {
    "duration": 8,
    "start_time": "2024-05-11T10:53:03.313Z"
   },
   {
    "duration": 2,
    "start_time": "2024-05-11T10:53:03.345Z"
   },
   {
    "duration": 6,
    "start_time": "2024-05-11T10:53:03.381Z"
   },
   {
    "duration": 3,
    "start_time": "2024-05-11T10:53:03.412Z"
   },
   {
    "duration": 4,
    "start_time": "2024-05-11T10:53:03.479Z"
   },
   {
    "duration": 4,
    "start_time": "2024-05-11T10:53:03.512Z"
   },
   {
    "duration": 25,
    "start_time": "2024-05-11T10:53:03.615Z"
   },
   {
    "duration": 23,
    "start_time": "2024-05-11T10:53:03.647Z"
   },
   {
    "duration": 4,
    "start_time": "2024-05-11T10:53:03.680Z"
   },
   {
    "duration": 24,
    "start_time": "2024-05-11T10:53:03.750Z"
   },
   {
    "duration": 10,
    "start_time": "2024-05-11T10:53:03.816Z"
   },
   {
    "duration": 7,
    "start_time": "2024-05-11T10:53:03.847Z"
   },
   {
    "duration": 5,
    "start_time": "2024-05-11T10:53:03.950Z"
   },
   {
    "duration": 3,
    "start_time": "2024-05-11T10:53:03.980Z"
   },
   {
    "duration": 4,
    "start_time": "2024-05-11T10:53:04.015Z"
   },
   {
    "duration": 5,
    "start_time": "2024-05-11T10:53:04.053Z"
   },
   {
    "duration": 6,
    "start_time": "2024-05-11T10:53:04.083Z"
   },
   {
    "duration": 27,
    "start_time": "2024-05-11T10:53:04.148Z"
   },
   {
    "duration": 4,
    "start_time": "2024-05-11T10:53:04.182Z"
   },
   {
    "duration": 38,
    "start_time": "2024-05-11T10:53:04.253Z"
   },
   {
    "duration": 11,
    "start_time": "2024-05-11T10:53:04.351Z"
   },
   {
    "duration": 8,
    "start_time": "2024-05-11T10:53:04.385Z"
   },
   {
    "duration": 9,
    "start_time": "2024-05-11T10:53:04.415Z"
   },
   {
    "duration": 1296,
    "start_time": "2024-05-14T07:27:36.781Z"
   },
   {
    "duration": 243,
    "start_time": "2024-05-14T07:27:38.079Z"
   },
   {
    "duration": 14,
    "start_time": "2024-05-14T07:27:38.324Z"
   },
   {
    "duration": 3,
    "start_time": "2024-05-14T07:27:38.340Z"
   },
   {
    "duration": 18,
    "start_time": "2024-05-14T07:27:38.344Z"
   },
   {
    "duration": 26,
    "start_time": "2024-05-14T07:27:38.364Z"
   },
   {
    "duration": 22,
    "start_time": "2024-05-14T07:27:38.392Z"
   },
   {
    "duration": 23,
    "start_time": "2024-05-14T07:27:38.416Z"
   },
   {
    "duration": 10,
    "start_time": "2024-05-14T07:27:38.441Z"
   },
   {
    "duration": 14,
    "start_time": "2024-05-14T07:27:38.455Z"
   },
   {
    "duration": 17,
    "start_time": "2024-05-14T07:27:38.470Z"
   },
   {
    "duration": 23,
    "start_time": "2024-05-14T07:27:38.488Z"
   },
   {
    "duration": 24,
    "start_time": "2024-05-14T07:27:38.513Z"
   },
   {
    "duration": 15,
    "start_time": "2024-05-14T07:27:38.539Z"
   },
   {
    "duration": 10,
    "start_time": "2024-05-14T07:27:38.556Z"
   },
   {
    "duration": 6,
    "start_time": "2024-05-14T07:27:38.567Z"
   },
   {
    "duration": 13,
    "start_time": "2024-05-14T07:27:38.575Z"
   },
   {
    "duration": 6,
    "start_time": "2024-05-14T07:27:38.590Z"
   },
   {
    "duration": 21,
    "start_time": "2024-05-14T07:27:38.597Z"
   },
   {
    "duration": 13,
    "start_time": "2024-05-14T07:27:38.619Z"
   },
   {
    "duration": 11,
    "start_time": "2024-05-14T07:27:38.634Z"
   },
   {
    "duration": 7,
    "start_time": "2024-05-14T07:27:38.646Z"
   },
   {
    "duration": 14,
    "start_time": "2024-05-14T07:27:38.654Z"
   },
   {
    "duration": 21,
    "start_time": "2024-05-14T07:27:38.670Z"
   },
   {
    "duration": 8,
    "start_time": "2024-05-14T07:27:38.692Z"
   },
   {
    "duration": 17,
    "start_time": "2024-05-14T07:27:38.701Z"
   },
   {
    "duration": 7,
    "start_time": "2024-05-14T07:27:38.719Z"
   },
   {
    "duration": 5,
    "start_time": "2024-05-14T07:27:38.731Z"
   },
   {
    "duration": 16,
    "start_time": "2024-05-14T07:27:38.738Z"
   },
   {
    "duration": 29,
    "start_time": "2024-05-14T07:27:38.756Z"
   },
   {
    "duration": 19,
    "start_time": "2024-05-14T07:27:38.787Z"
   },
   {
    "duration": 9,
    "start_time": "2024-05-14T07:27:38.808Z"
   },
   {
    "duration": 437,
    "start_time": "2024-05-14T07:27:38.819Z"
   },
   {
    "duration": 374,
    "start_time": "2024-05-14T07:27:39.259Z"
   },
   {
    "duration": 7,
    "start_time": "2024-05-14T07:27:39.634Z"
   },
   {
    "duration": 17,
    "start_time": "2024-05-14T07:27:39.642Z"
   },
   {
    "duration": 12,
    "start_time": "2024-05-14T07:27:39.660Z"
   },
   {
    "duration": 374,
    "start_time": "2024-05-14T07:27:39.673Z"
   },
   {
    "duration": 8,
    "start_time": "2024-05-14T07:27:40.049Z"
   },
   {
    "duration": 51,
    "start_time": "2024-05-14T07:27:40.059Z"
   },
   {
    "duration": 18,
    "start_time": "2024-05-14T07:27:40.112Z"
   },
   {
    "duration": 11,
    "start_time": "2024-05-14T07:27:40.132Z"
   },
   {
    "duration": 15,
    "start_time": "2024-05-14T07:27:40.145Z"
   },
   {
    "duration": 11,
    "start_time": "2024-05-14T07:27:40.162Z"
   },
   {
    "duration": 359,
    "start_time": "2024-05-14T07:27:40.174Z"
   },
   {
    "duration": 382,
    "start_time": "2024-05-14T07:27:40.535Z"
   },
   {
    "duration": 5,
    "start_time": "2024-05-14T07:27:40.919Z"
   },
   {
    "duration": 3,
    "start_time": "2024-05-14T07:27:40.925Z"
   },
   {
    "duration": 11,
    "start_time": "2024-05-14T07:27:40.929Z"
   },
   {
    "duration": 330,
    "start_time": "2024-05-14T07:27:40.941Z"
   },
   {
    "duration": 12,
    "start_time": "2024-05-14T07:27:41.272Z"
   },
   {
    "duration": 298,
    "start_time": "2024-05-14T07:27:41.286Z"
   },
   {
    "duration": 5,
    "start_time": "2024-05-14T07:27:41.585Z"
   },
   {
    "duration": 309,
    "start_time": "2024-05-14T07:27:41.592Z"
   },
   {
    "duration": 5,
    "start_time": "2024-05-14T07:27:41.903Z"
   },
   {
    "duration": 14,
    "start_time": "2024-05-14T07:27:41.910Z"
   },
   {
    "duration": 14,
    "start_time": "2024-05-14T07:27:41.925Z"
   },
   {
    "duration": 21,
    "start_time": "2024-05-14T07:27:41.940Z"
   },
   {
    "duration": 44,
    "start_time": "2024-05-14T07:27:41.962Z"
   },
   {
    "duration": 14,
    "start_time": "2024-05-14T07:27:42.008Z"
   },
   {
    "duration": 6,
    "start_time": "2024-05-14T07:27:42.024Z"
   },
   {
    "duration": 13,
    "start_time": "2024-05-14T07:27:42.032Z"
   },
   {
    "duration": 9,
    "start_time": "2024-05-14T07:27:42.047Z"
   },
   {
    "duration": 13,
    "start_time": "2024-05-14T07:27:42.058Z"
   },
   {
    "duration": 11,
    "start_time": "2024-05-14T07:27:42.073Z"
   },
   {
    "duration": 16,
    "start_time": "2024-05-14T07:27:42.086Z"
   },
   {
    "duration": 11,
    "start_time": "2024-05-14T07:27:42.103Z"
   },
   {
    "duration": 16,
    "start_time": "2024-05-14T07:27:42.116Z"
   },
   {
    "duration": 27,
    "start_time": "2024-05-14T07:27:42.134Z"
   },
   {
    "duration": 25,
    "start_time": "2024-05-14T07:27:42.163Z"
   },
   {
    "duration": 4,
    "start_time": "2024-05-14T07:27:42.190Z"
   },
   {
    "duration": 15,
    "start_time": "2024-05-14T07:27:42.196Z"
   },
   {
    "duration": 8,
    "start_time": "2024-05-14T07:27:42.213Z"
   },
   {
    "duration": 11,
    "start_time": "2024-05-14T07:27:42.222Z"
   },
   {
    "duration": 12,
    "start_time": "2024-05-14T07:27:42.234Z"
   },
   {
    "duration": 6,
    "start_time": "2024-05-14T07:27:42.247Z"
   },
   {
    "duration": 10,
    "start_time": "2024-05-14T07:27:42.255Z"
   },
   {
    "duration": 6,
    "start_time": "2024-05-14T07:27:42.282Z"
   },
   {
    "duration": 7,
    "start_time": "2024-05-14T07:27:42.290Z"
   },
   {
    "duration": 22,
    "start_time": "2024-05-14T07:27:42.299Z"
   },
   {
    "duration": 15,
    "start_time": "2024-05-14T07:27:42.323Z"
   },
   {
    "duration": 5,
    "start_time": "2024-05-14T07:27:42.343Z"
   },
   {
    "duration": 8,
    "start_time": "2024-05-14T07:27:42.350Z"
   },
   {
    "duration": 7,
    "start_time": "2024-05-14T07:27:42.359Z"
   },
   {
    "duration": 16,
    "start_time": "2024-05-14T07:27:42.368Z"
   },
   {
    "duration": 25,
    "start_time": "2024-05-14T07:27:42.386Z"
   },
   {
    "duration": 4,
    "start_time": "2024-05-14T07:27:42.413Z"
   },
   {
    "duration": 25,
    "start_time": "2024-05-14T07:27:42.419Z"
   },
   {
    "duration": 39,
    "start_time": "2024-05-14T07:27:42.446Z"
   },
   {
    "duration": 9,
    "start_time": "2024-05-14T07:27:42.486Z"
   },
   {
    "duration": 11,
    "start_time": "2024-05-14T07:27:42.496Z"
   },
   {
    "duration": 1354,
    "start_time": "2024-05-14T11:58:42.113Z"
   },
   {
    "duration": 94,
    "start_time": "2024-05-14T11:58:43.469Z"
   },
   {
    "duration": 18,
    "start_time": "2024-05-14T11:58:43.565Z"
   },
   {
    "duration": 4,
    "start_time": "2024-05-14T11:58:43.586Z"
   },
   {
    "duration": 17,
    "start_time": "2024-05-14T11:58:43.592Z"
   },
   {
    "duration": 7,
    "start_time": "2024-05-14T11:58:43.611Z"
   },
   {
    "duration": 16,
    "start_time": "2024-05-14T11:58:43.620Z"
   },
   {
    "duration": 11,
    "start_time": "2024-05-14T11:58:43.638Z"
   },
   {
    "duration": 5,
    "start_time": "2024-05-14T11:58:43.683Z"
   },
   {
    "duration": 15,
    "start_time": "2024-05-14T11:58:43.691Z"
   },
   {
    "duration": 11,
    "start_time": "2024-05-14T11:58:43.709Z"
   },
   {
    "duration": 15,
    "start_time": "2024-05-14T11:58:43.723Z"
   },
   {
    "duration": 50,
    "start_time": "2024-05-14T11:58:43.740Z"
   },
   {
    "duration": 22,
    "start_time": "2024-05-14T11:58:43.792Z"
   },
   {
    "duration": 10,
    "start_time": "2024-05-14T11:58:43.816Z"
   },
   {
    "duration": 8,
    "start_time": "2024-05-14T11:58:43.828Z"
   },
   {
    "duration": 11,
    "start_time": "2024-05-14T11:58:43.838Z"
   },
   {
    "duration": 34,
    "start_time": "2024-05-14T11:58:43.850Z"
   },
   {
    "duration": 16,
    "start_time": "2024-05-14T11:58:43.886Z"
   },
   {
    "duration": 9,
    "start_time": "2024-05-14T11:58:43.904Z"
   },
   {
    "duration": 4,
    "start_time": "2024-05-14T11:58:43.915Z"
   },
   {
    "duration": 19,
    "start_time": "2024-05-14T11:58:43.921Z"
   },
   {
    "duration": 43,
    "start_time": "2024-05-14T11:58:43.943Z"
   },
   {
    "duration": 7,
    "start_time": "2024-05-14T11:58:43.988Z"
   },
   {
    "duration": 5,
    "start_time": "2024-05-14T11:58:43.996Z"
   },
   {
    "duration": 7,
    "start_time": "2024-05-14T11:58:44.002Z"
   },
   {
    "duration": 22,
    "start_time": "2024-05-14T11:58:44.011Z"
   },
   {
    "duration": 48,
    "start_time": "2024-05-14T11:58:44.038Z"
   },
   {
    "duration": 29,
    "start_time": "2024-05-14T11:58:44.088Z"
   },
   {
    "duration": 31,
    "start_time": "2024-05-14T11:58:44.119Z"
   },
   {
    "duration": 37,
    "start_time": "2024-05-14T11:58:44.153Z"
   },
   {
    "duration": 497,
    "start_time": "2024-05-14T11:58:44.192Z"
   },
   {
    "duration": 376,
    "start_time": "2024-05-14T11:58:44.691Z"
   },
   {
    "duration": 13,
    "start_time": "2024-05-14T11:58:45.069Z"
   },
   {
    "duration": 57,
    "start_time": "2024-05-14T11:58:45.083Z"
   },
   {
    "duration": 34,
    "start_time": "2024-05-14T11:58:45.142Z"
   },
   {
    "duration": 374,
    "start_time": "2024-05-14T11:58:45.178Z"
   },
   {
    "duration": 8,
    "start_time": "2024-05-14T11:58:45.554Z"
   },
   {
    "duration": 24,
    "start_time": "2024-05-14T11:58:45.564Z"
   },
   {
    "duration": 12,
    "start_time": "2024-05-14T11:58:45.590Z"
   },
   {
    "duration": 17,
    "start_time": "2024-05-14T11:58:45.604Z"
   },
   {
    "duration": 21,
    "start_time": "2024-05-14T11:58:45.623Z"
   },
   {
    "duration": 19,
    "start_time": "2024-05-14T11:58:45.647Z"
   },
   {
    "duration": 424,
    "start_time": "2024-05-14T11:58:45.668Z"
   },
   {
    "duration": 457,
    "start_time": "2024-05-14T11:58:46.094Z"
   },
   {
    "duration": 5,
    "start_time": "2024-05-14T11:58:46.553Z"
   },
   {
    "duration": 4,
    "start_time": "2024-05-14T11:58:46.559Z"
   },
   {
    "duration": 23,
    "start_time": "2024-05-14T11:58:46.564Z"
   },
   {
    "duration": 324,
    "start_time": "2024-05-14T11:58:46.589Z"
   },
   {
    "duration": 6,
    "start_time": "2024-05-14T11:58:46.915Z"
   },
   {
    "duration": 311,
    "start_time": "2024-05-14T11:58:46.923Z"
   },
   {
    "duration": 5,
    "start_time": "2024-05-14T11:58:47.236Z"
   },
   {
    "duration": 355,
    "start_time": "2024-05-14T11:58:47.243Z"
   },
   {
    "duration": 5,
    "start_time": "2024-05-14T11:58:47.600Z"
   },
   {
    "duration": 14,
    "start_time": "2024-05-14T11:58:47.606Z"
   },
   {
    "duration": 18,
    "start_time": "2024-05-14T11:58:47.622Z"
   },
   {
    "duration": 27,
    "start_time": "2024-05-14T11:58:47.642Z"
   },
   {
    "duration": 15,
    "start_time": "2024-05-14T11:58:47.671Z"
   },
   {
    "duration": 10,
    "start_time": "2024-05-14T11:58:47.688Z"
   },
   {
    "duration": 19,
    "start_time": "2024-05-14T11:58:47.700Z"
   },
   {
    "duration": 14,
    "start_time": "2024-05-14T11:58:47.720Z"
   },
   {
    "duration": 10,
    "start_time": "2024-05-14T11:58:47.736Z"
   },
   {
    "duration": 6,
    "start_time": "2024-05-14T11:58:47.748Z"
   },
   {
    "duration": 32,
    "start_time": "2024-05-14T11:58:47.756Z"
   },
   {
    "duration": 3,
    "start_time": "2024-05-14T11:58:47.790Z"
   },
   {
    "duration": 6,
    "start_time": "2024-05-14T11:58:47.795Z"
   },
   {
    "duration": 4,
    "start_time": "2024-05-14T11:58:47.802Z"
   },
   {
    "duration": 74,
    "start_time": "2024-05-14T11:58:47.808Z"
   },
   {
    "duration": 27,
    "start_time": "2024-05-14T11:58:47.884Z"
   },
   {
    "duration": 14,
    "start_time": "2024-05-14T11:58:47.913Z"
   },
   {
    "duration": 14,
    "start_time": "2024-05-14T11:58:47.929Z"
   },
   {
    "duration": 25,
    "start_time": "2024-05-14T11:58:47.945Z"
   },
   {
    "duration": 10,
    "start_time": "2024-05-14T11:58:47.982Z"
   },
   {
    "duration": 7,
    "start_time": "2024-05-14T11:58:47.994Z"
   },
   {
    "duration": 6,
    "start_time": "2024-05-14T11:58:48.003Z"
   },
   {
    "duration": 6,
    "start_time": "2024-05-14T11:58:48.010Z"
   },
   {
    "duration": 7,
    "start_time": "2024-05-14T11:58:48.018Z"
   },
   {
    "duration": 7,
    "start_time": "2024-05-14T11:58:48.026Z"
   },
   {
    "duration": 54,
    "start_time": "2024-05-14T11:58:48.035Z"
   },
   {
    "duration": 7,
    "start_time": "2024-05-14T11:58:48.091Z"
   },
   {
    "duration": 13,
    "start_time": "2024-05-14T11:58:48.100Z"
   },
   {
    "duration": 22,
    "start_time": "2024-05-14T11:58:48.118Z"
   },
   {
    "duration": 9,
    "start_time": "2024-05-14T11:58:48.142Z"
   },
   {
    "duration": 19,
    "start_time": "2024-05-14T11:58:48.153Z"
   },
   {
    "duration": 50,
    "start_time": "2024-05-14T11:58:48.181Z"
   },
   {
    "duration": 5,
    "start_time": "2024-05-14T11:58:48.232Z"
   },
   {
    "duration": 44,
    "start_time": "2024-05-14T11:58:48.239Z"
   },
   {
    "duration": 10,
    "start_time": "2024-05-14T11:58:48.284Z"
   },
   {
    "duration": 8,
    "start_time": "2024-05-14T11:58:48.296Z"
   },
   {
    "duration": 9,
    "start_time": "2024-05-14T11:58:48.306Z"
   }
  ],
  "kernelspec": {
   "display_name": "Python 3 (ipykernel)",
   "language": "python",
   "name": "python3"
  },
  "language_info": {
   "codemirror_mode": {
    "name": "ipython",
    "version": 3
   },
   "file_extension": ".py",
   "mimetype": "text/x-python",
   "name": "python",
   "nbconvert_exporter": "python",
   "pygments_lexer": "ipython3",
   "version": "3.9.18"
  },
  "toc": {
   "base_numbering": 1,
   "nav_menu": {},
   "number_sections": true,
   "sideBar": true,
   "skip_h1_title": true,
   "title_cell": "Table of Contents",
   "title_sidebar": "Contents",
   "toc_cell": false,
   "toc_position": {},
   "toc_section_display": true,
   "toc_window_display": false
  }
 },
 "nbformat": 4,
 "nbformat_minor": 5
}
